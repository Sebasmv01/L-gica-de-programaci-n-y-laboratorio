{
 "cells": [
  {
   "cell_type": "markdown",
   "metadata": {},
   "source": [
    "# String\n",
    "\n",
    "Esta lección es una rápida introducción a técnicas de manipulación de cadenas de caracteres (o strings) en Python. Saber cómo manipular cadenas de caracteres juega un papel fundamental en la mayoría de las tareas de procesamiento de texto. Si quieres experimentar con las siguientes lecciones puedes escribir y ejecutar pequeños programas tal como lo hicimos en lecciones previas, o puedes abrir tu intérprete de comandos de Python / Terminal para probarlos ahí."
   ]
  },
  {
   "cell_type": "markdown",
   "metadata": {},
   "source": [
    "Una string es una secuencia de caracteres. Puede acceder a los caracteres de uno en uno con el operador de paréntesis: "
   ]
  },
  {
   "cell_type": "code",
   "execution_count": null,
   "metadata": {},
   "outputs": [],
   "source": [
    "fruta = 'fresa'"
   ]
  },
  {
   "cell_type": "code",
   "execution_count": null,
   "metadata": {},
   "outputs": [],
   "source": [
    "letra = fruta[1]"
   ]
  },
  {
   "cell_type": "markdown",
   "metadata": {},
   "source": [
    "La segunda afirmación extrae el carácter en la posición 1 del índice de la variable de la fruta y lo asigna a la variable de la letra. La expresión entre paréntesis se llama índice. El índice indica el carácter de la secuencia que se desea (de ahí el nombre). Pero puede que no consigas lo que esperas: "
   ]
  },
  {
   "cell_type": "code",
   "execution_count": null,
   "metadata": {},
   "outputs": [],
   "source": [
    "print(letra)"
   ]
  },
  {
   "cell_type": "markdown",
   "metadata": {},
   "source": [
    "Para la mayoría de la gente, la primera letra de \"banana\" es \"b\", no \"a\". Pero en Python, el índice es un desplazamiento del principio de la cadena, y el desplazamiento de la primera letra es cero (0).  "
   ]
  },
  {
   "cell_type": "code",
   "execution_count": null,
   "metadata": {},
   "outputs": [],
   "source": [
    "letra = fruta[0]\n",
    "print(letra)"
   ]
  },
  {
   "cell_type": "markdown",
   "metadata": {},
   "source": [
    "Así que \"b\" es la letra en la posición 0 de la palabra \"banana\", \"a\" es la letra en la posición 1, y \"n\" seria la letra en la posición 2. \n",
    "\n",
    "\n",
    "Se puede usar cualquier expresión, incluyendo variables y operadores, como un índice, pero el valor del índice tiene que ser un número entero. De lo contrario, se obtiene: "
   ]
  },
  {
   "cell_type": "code",
   "execution_count": null,
   "metadata": {},
   "outputs": [],
   "source": [
    "letra = fruta[1,5]"
   ]
  },
  {
   "cell_type": "markdown",
   "metadata": {},
   "source": [
    "<img src=\"https://i.imgur.com/Tpj7CQC.png\">"
   ]
  },
  {
   "cell_type": "markdown",
   "metadata": {},
   "source": [
    "# Obtener la longitud de un string usando len()\n",
    "\n",
    "len es una función incorporada que devuelve el número de caracteres de una cadena:_"
   ]
  },
  {
   "cell_type": "code",
   "execution_count": null,
   "metadata": {},
   "outputs": [],
   "source": [
    "fruta = 'banana'\n",
    "len(fruta)"
   ]
  },
  {
   "cell_type": "markdown",
   "metadata": {},
   "source": [
    "Para obtener la última letra de un string, podrías estar tentado de intentar algo como esto: "
   ]
  },
  {
   "cell_type": "code",
   "execution_count": null,
   "metadata": {},
   "outputs": [],
   "source": [
    "longitud = len(fruta)\n",
    "ultimo = fruta[longitud]"
   ]
  },
  {
   "cell_type": "markdown",
   "metadata": {},
   "source": [
    "La razón del IndexError es que no hay ninguna letra en \"banana\" con el índice 6. Desde que empezamos a contar en el cero, las seis letras están numeradas del 0 al 5. Para obtener el último carácter, hay que restarle 1 a la longitud: "
   ]
  },
  {
   "cell_type": "code",
   "execution_count": null,
   "metadata": {},
   "outputs": [],
   "source": [
    "ultimo = fruta[longitud-1]\n",
    "print(ultimo)"
   ]
  },
  {
   "cell_type": "markdown",
   "metadata": {},
   "source": [
    "Alternativamente, puedes usar índices negativos, que cuentan hacia atrás desde el final de la cuerda. La expresión fruta[-1] da la última letra, fruta[-2] da la el penúltimo, y así sucesivamente. "
   ]
  },
  {
   "cell_type": "markdown",
   "metadata": {},
   "source": [
    "# Rebanas de String\n",
    "\n",
    "Un segmento de un string se llama un trozo. Seleccionar una rebanada es similar a seleccionar una caracter:"
   ]
  },
  {
   "cell_type": "code",
   "execution_count": null,
   "metadata": {},
   "outputs": [],
   "source": [
    "s = 'Monty Python'\n",
    "print(s[:5])"
   ]
  },
  {
   "cell_type": "code",
   "execution_count": null,
   "metadata": {},
   "outputs": [],
   "source": [
    "print(s[6:12])"
   ]
  },
  {
   "cell_type": "markdown",
   "metadata": {},
   "source": [
    "El operador devuelve la parte de la cadena del \"n-ésimo\" carácter \"m-ésimo\" al carácter, incluyendo el primero pero excluyendo el último [n,m). Si se omite el primer índice (antes de los dos puntos), el trozo comienza al principio de la cadena. Si se omite el segundo índice, la rebanada va al final de la cadena: "
   ]
  },
  {
   "cell_type": "code",
   "execution_count": null,
   "metadata": {},
   "outputs": [],
   "source": [
    "fruta = 'banana'\n",
    "fruta[:3]"
   ]
  },
  {
   "cell_type": "code",
   "execution_count": null,
   "metadata": {},
   "outputs": [],
   "source": [
    "fruta[3:]"
   ]
  },
  {
   "cell_type": "markdown",
   "metadata": {},
   "source": [
    "Si el primer índice es mayor o igual que el segundo el resultado es una cadena vacía, representada por dos comillas:"
   ]
  },
  {
   "cell_type": "code",
   "execution_count": null,
   "metadata": {},
   "outputs": [],
   "source": [
    "fruta = 'banana'\n",
    "fruta[7:7]"
   ]
  },
  {
   "cell_type": "markdown",
   "metadata": {},
   "source": [
    "Una cadena vacía no contiene caracteres y tiene una longitud de 0, pero aparte de eso, es igual a cualquier otra cadena. "
   ]
  },
  {
   "cell_type": "markdown",
   "metadata": {},
   "source": [
    "# Ejercicio 1: ¿ Qué ocurre cuando se utiliza fruta[:]?"
   ]
  },
  {
   "cell_type": "code",
   "execution_count": null,
   "metadata": {},
   "outputs": [],
   "source": [
    "fruta[:]"
   ]
  },
  {
   "cell_type": "markdown",
   "metadata": {},
   "source": [
    "# ¿Los string son inmutables?\n",
    "\n",
    "Es tentador utilizar el operador del lado izquierdo de una asignación, con la intención de cambiar un caracter en un string. Por ejemplo: "
   ]
  },
  {
   "cell_type": "code",
   "execution_count": null,
   "metadata": {},
   "outputs": [],
   "source": [
    "saludo = '¡Hola, mundo!'\n",
    "saludo[0] = 'J'"
   ]
  },
  {
   "cell_type": "markdown",
   "metadata": {},
   "source": [
    "El \"objeto\" en este caso es la cadena y el \"ítem\" es el caracter que trataste de asignar. Por ahora, un objeto es lo mismo que un valor, pero afinaremos esa definición más adelante. Un ítem es uno de los valores de una secuencia. La razón del error es que las cadenas son **INMUTABLES**, lo que significa que no se puede cambiar una cadena existente. Lo mejor que puedes hacer es crear una nueva cadena que sea una variación de la original:"
   ]
  },
  {
   "cell_type": "code",
   "execution_count": null,
   "metadata": {},
   "outputs": [],
   "source": [
    "saludo = '¡Hola, mundo!'\n",
    "nuevo_saludo = saludo[:6]+\" M\"+saludo[8:]\n",
    "print(nuevo_saludo)"
   ]
  },
  {
   "cell_type": "markdown",
   "metadata": {},
   "source": [
    "Este ejemplo concatena una nueva primera letra en un trozo de saludo. No tiene ningún efecto en la cadena original. "
   ]
  },
  {
   "cell_type": "markdown",
   "metadata": {},
   "source": [
    "# El operador \"in\"\n",
    "\n",
    "La palabra \"in\" es un operador booleano que toma dos cadenas y devuelve True si la primera aparece como una subcadena en la segunda:"
   ]
  },
  {
   "cell_type": "code",
   "execution_count": null,
   "metadata": {},
   "outputs": [],
   "source": [
    "'a' in 'banana'"
   ]
  },
  {
   "cell_type": "code",
   "execution_count": null,
   "metadata": {},
   "outputs": [],
   "source": [
    "\"bna\" in \"banana\""
   ]
  },
  {
   "cell_type": "markdown",
   "metadata": {},
   "source": [
    "# Comparación de string\n",
    "\n",
    "\n",
    "Los operadores de comparación trabajan con strings. Para ver si dos cuerdas son iguales:"
   ]
  },
  {
   "cell_type": "code",
   "execution_count": null,
   "metadata": {},
   "outputs": [],
   "source": [
    "palabra = 'Banana'\n",
    "if palabra == 'banana':\n",
    "    print('Está bien, bananas')"
   ]
  },
  {
   "cell_type": "markdown",
   "metadata": {},
   "source": [
    "Otras operaciones de comparación son útiles para poner las palabras en orden alfabético:"
   ]
  },
  {
   "cell_type": "code",
   "execution_count": 32,
   "metadata": {},
   "outputs": [
    {
     "ename": "TypeError",
     "evalue": "'<' not supported between instances of 'int' and 'str'",
     "output_type": "error",
     "traceback": [
      "\u001b[1;31m---------------------------------------------------------------------------\u001b[0m",
      "\u001b[1;31mTypeError\u001b[0m                                 Traceback (most recent call last)",
      "\u001b[1;32md:\\Dropbox\\U\\Clases\\Logica y programacion\\clases\\Clase 9 - Cadenas de caracteres (strings) y operaciones sobre estas.ipynb Cell 41\u001b[0m in \u001b[0;36m<cell line: 2>\u001b[1;34m()\u001b[0m\n\u001b[0;32m      <a href='vscode-notebook-cell:/d%3A/Dropbox/U/Clases/Logica%20y%20programacion/clases/Clase%209%20-%20Cadenas%20de%20caracteres%20%28strings%29%20y%20operaciones%20sobre%20estas.ipynb#X55sZmlsZQ%3D%3D?line=0'>1</a>\u001b[0m palabra \u001b[39m=\u001b[39m \u001b[39m345\u001b[39m\n\u001b[1;32m----> <a href='vscode-notebook-cell:/d%3A/Dropbox/U/Clases/Logica%20y%20programacion/clases/Clase%209%20-%20Cadenas%20de%20caracteres%20%28strings%29%20y%20operaciones%20sobre%20estas.ipynb#X55sZmlsZQ%3D%3D?line=1'>2</a>\u001b[0m \u001b[39mif\u001b[39;00m palabra \u001b[39m<\u001b[39;49m \u001b[39m'\u001b[39;49m\u001b[39mbanana\u001b[39;49m\u001b[39m'\u001b[39;49m:\n\u001b[0;32m      <a href='vscode-notebook-cell:/d%3A/Dropbox/U/Clases/Logica%20y%20programacion/clases/Clase%209%20-%20Cadenas%20de%20caracteres%20%28strings%29%20y%20operaciones%20sobre%20estas.ipynb#X55sZmlsZQ%3D%3D?line=2'>3</a>\u001b[0m     \u001b[39mprint\u001b[39m(\u001b[39m'\u001b[39m\u001b[39mTu palabra,\u001b[39m\u001b[39m'\u001b[39m \u001b[39m+\u001b[39m palabra \u001b[39m+\u001b[39m \u001b[39m'\u001b[39m\u001b[39m, viene antes de banana\u001b[39m\u001b[39m'\u001b[39m)\n\u001b[0;32m      <a href='vscode-notebook-cell:/d%3A/Dropbox/U/Clases/Logica%20y%20programacion/clases/Clase%209%20-%20Cadenas%20de%20caracteres%20%28strings%29%20y%20operaciones%20sobre%20estas.ipynb#X55sZmlsZQ%3D%3D?line=3'>4</a>\u001b[0m \u001b[39melif\u001b[39;00m palabra \u001b[39m>\u001b[39m \u001b[39m'\u001b[39m\u001b[39mbanana\u001b[39m\u001b[39m'\u001b[39m:\n",
      "\u001b[1;31mTypeError\u001b[0m: '<' not supported between instances of 'int' and 'str'"
     ]
    }
   ],
   "source": [
    "palabra = 345\n",
    "if palabra < 'banana':\n",
    "    print('Tu palabra,' + palabra + ', viene antes de banana')\n",
    "elif palabra > 'banana':\n",
    "    print('Su palabra ' + palabra +', viene después de banana.')\n",
    "else:\n",
    "    print('Está bien, su palabra es banana')"
   ]
  },
  {
   "cell_type": "markdown",
   "metadata": {},
   "source": [
    "Python no maneja las mayúsculas y minúsculas de la misma manera como lo hace la gente. Todas las mayúsculas vienen antes que las minúsculas, así que: \n",
    "\n",
    "La palabra, **Piña**, viene antes que **banana**."
   ]
  },
  {
   "cell_type": "markdown",
   "metadata": {},
   "source": [
    "Una forma común de abordar este problema es convertir las cadenas a un formato estándar, como todas las minúsculas, antes de realizar la comparación. Tengan eso en cuenta en caso de que tienes que defenderte de un hombre armado con una piña. "
   ]
  },
  {
   "cell_type": "markdown",
   "metadata": {},
   "source": [
    "# Métodos de un string\n",
    "\n",
    "Los string son un ejemplo de los objetos de Python. Un objeto contiene tanto datos (la cadena propiamente dicha) como métodos, que son en realidad funciones que están incorporadas en el objeto y que están disponibles para cualquier instancia del mismo. \n",
    "\n",
    "Python tiene una función llamada dir que enumera los métodos disponibles para un objeto. La función type muestra el tipo de un objeto y la función dir muestra los métodos disponibles. "
   ]
  },
  {
   "cell_type": "code",
   "execution_count": 33,
   "metadata": {},
   "outputs": [],
   "source": [
    "Cadena = 'Hola mundo'"
   ]
  },
  {
   "cell_type": "code",
   "execution_count": 34,
   "metadata": {},
   "outputs": [
    {
     "data": {
      "text/plain": [
       "str"
      ]
     },
     "execution_count": 34,
     "metadata": {},
     "output_type": "execute_result"
    }
   ],
   "source": [
    "type(Cadena)"
   ]
  },
  {
   "cell_type": "code",
   "execution_count": 35,
   "metadata": {},
   "outputs": [
    {
     "data": {
      "text/plain": [
       "['__add__',\n",
       " '__class__',\n",
       " '__contains__',\n",
       " '__delattr__',\n",
       " '__dir__',\n",
       " '__doc__',\n",
       " '__eq__',\n",
       " '__format__',\n",
       " '__ge__',\n",
       " '__getattribute__',\n",
       " '__getitem__',\n",
       " '__getnewargs__',\n",
       " '__gt__',\n",
       " '__hash__',\n",
       " '__init__',\n",
       " '__init_subclass__',\n",
       " '__iter__',\n",
       " '__le__',\n",
       " '__len__',\n",
       " '__lt__',\n",
       " '__mod__',\n",
       " '__mul__',\n",
       " '__ne__',\n",
       " '__new__',\n",
       " '__reduce__',\n",
       " '__reduce_ex__',\n",
       " '__repr__',\n",
       " '__rmod__',\n",
       " '__rmul__',\n",
       " '__setattr__',\n",
       " '__sizeof__',\n",
       " '__str__',\n",
       " '__subclasshook__',\n",
       " 'capitalize',\n",
       " 'casefold',\n",
       " 'center',\n",
       " 'count',\n",
       " 'encode',\n",
       " 'endswith',\n",
       " 'expandtabs',\n",
       " 'find',\n",
       " 'format',\n",
       " 'format_map',\n",
       " 'index',\n",
       " 'isalnum',\n",
       " 'isalpha',\n",
       " 'isascii',\n",
       " 'isdecimal',\n",
       " 'isdigit',\n",
       " 'isidentifier',\n",
       " 'islower',\n",
       " 'isnumeric',\n",
       " 'isprintable',\n",
       " 'isspace',\n",
       " 'istitle',\n",
       " 'isupper',\n",
       " 'join',\n",
       " 'ljust',\n",
       " 'lower',\n",
       " 'lstrip',\n",
       " 'maketrans',\n",
       " 'partition',\n",
       " 'removeprefix',\n",
       " 'removesuffix',\n",
       " 'replace',\n",
       " 'rfind',\n",
       " 'rindex',\n",
       " 'rjust',\n",
       " 'rpartition',\n",
       " 'rsplit',\n",
       " 'rstrip',\n",
       " 'split',\n",
       " 'splitlines',\n",
       " 'startswith',\n",
       " 'strip',\n",
       " 'swapcase',\n",
       " 'title',\n",
       " 'translate',\n",
       " 'upper',\n",
       " 'zfill']"
      ]
     },
     "execution_count": 35,
     "metadata": {},
     "output_type": "execute_result"
    }
   ],
   "source": [
    "dir(Cadena)"
   ]
  },
  {
   "cell_type": "code",
   "execution_count": 37,
   "metadata": {},
   "outputs": [
    {
     "name": "stdout",
     "output_type": "stream",
     "text": [
      "Help on method_descriptor:\n",
      "\n",
      "capitalize(self, /)\n",
      "    Return a capitalized version of the string.\n",
      "    \n",
      "    More specifically, make the first character have upper case and the rest lower\n",
      "    case.\n",
      "\n"
     ]
    }
   ],
   "source": [
    "help(str.capitalize)"
   ]
  },
  {
   "cell_type": "markdown",
   "metadata": {},
   "source": [
    "Si bien la función dir enumera los métodos, y se puede utilizar la ayuda para obtener una documentación sencilla sobre un método, una mejor fuente de documentación para los métodos de cuerda sería \n",
    "\n",
    "https://docs.python.org/library/stdtypes.html#string-methods. \n",
    "\n",
    "Llamar a un método es similar a llamar a una función (toma argumentos y devuelve un valor) pero la sintaxis es diferente. Llamamos a un método añadiendo el nombre del método al nombre de la variable utilizando el punto como delimitador. \n",
    "\n",
    "Por ejemplo, el método upper toma un string y devuelve un nuevo string con todas las letras mayúsculas:\n",
    "\n",
    "En lugar de la función sintaxis upper(palabra), utiliza el método sintaxis palabra.upper()."
   ]
  },
  {
   "cell_type": "code",
   "execution_count": 38,
   "metadata": {},
   "outputs": [
    {
     "ename": "TypeError",
     "evalue": "str.format_map() takes exactly one argument (0 given)",
     "output_type": "error",
     "traceback": [
      "\u001b[1;31m---------------------------------------------------------------------------\u001b[0m",
      "\u001b[1;31mTypeError\u001b[0m                                 Traceback (most recent call last)",
      "\u001b[1;32md:\\Dropbox\\U\\Clases\\Logica y programacion\\clases\\Clase 9 - Cadenas de caracteres (strings) y operaciones sobre estas.ipynb Cell 50\u001b[0m in \u001b[0;36m<cell line: 2>\u001b[1;34m()\u001b[0m\n\u001b[0;32m      <a href='vscode-notebook-cell:/d%3A/Dropbox/U/Clases/Logica%20y%20programacion/clases/Clase%209%20-%20Cadenas%20de%20caracteres%20%28strings%29%20y%20operaciones%20sobre%20estas.ipynb#Y100sZmlsZQ%3D%3D?line=0'>1</a>\u001b[0m palabra \u001b[39m=\u001b[39m \u001b[39m'\u001b[39m\u001b[39mBANANA\u001b[39m\u001b[39m'\u001b[39m\n\u001b[1;32m----> <a href='vscode-notebook-cell:/d%3A/Dropbox/U/Clases/Logica%20y%20programacion/clases/Clase%209%20-%20Cadenas%20de%20caracteres%20%28strings%29%20y%20operaciones%20sobre%20estas.ipynb#Y100sZmlsZQ%3D%3D?line=1'>2</a>\u001b[0m palabra_nueva \u001b[39m=\u001b[39m palabra\u001b[39m.\u001b[39;49mformat_map()\n\u001b[0;32m      <a href='vscode-notebook-cell:/d%3A/Dropbox/U/Clases/Logica%20y%20programacion/clases/Clase%209%20-%20Cadenas%20de%20caracteres%20%28strings%29%20y%20operaciones%20sobre%20estas.ipynb#Y100sZmlsZQ%3D%3D?line=2'>3</a>\u001b[0m \u001b[39mprint\u001b[39m(palabra_nueva)\n",
      "\u001b[1;31mTypeError\u001b[0m: str.format_map() takes exactly one argument (0 given)"
     ]
    }
   ],
   "source": [
    "palabra = 'BANANA'\n",
    "palabra_nueva = palabra.format_map()\n",
    "print(palabra_nueva)"
   ]
  },
  {
   "cell_type": "markdown",
   "metadata": {},
   "source": [
    "Esta forma de notación puntual especifica el nombre del método, **upper**, y el nombre de la cadena a la que se aplica el método, **palabra**. Los paréntesis vacíos indican que este método no toma ningún argumento. \n",
    "\n",
    "La llamada a un método se llama una **invocation**; en este caso, diríamos que estamos invocando upper sobre **palabra**. \n",
    "\n",
    "Por ejemplo, hay un método de cadena llamado **find** que busca la posición de una cadena dentro de otra: "
   ]
  },
  {
   "cell_type": "code",
   "execution_count": 40,
   "metadata": {},
   "outputs": [
    {
     "name": "stdout",
     "output_type": "stream",
     "text": [
      "BANANA\n"
     ]
    }
   ],
   "source": [
    "palabra = 'banana'\n",
    "index = palabra.upper()\n",
    "print(index)"
   ]
  },
  {
   "cell_type": "markdown",
   "metadata": {},
   "source": [
    "En este ejemplo, invocamos a find sobre palabra y pasamos la letra que buscamos como parámetro."
   ]
  },
  {
   "cell_type": "markdown",
   "metadata": {},
   "source": [
    "El método find puede encontrar subcadenas así como caracteres:"
   ]
  },
  {
   "cell_type": "code",
   "execution_count": 41,
   "metadata": {},
   "outputs": [
    {
     "data": {
      "text/plain": [
       "2"
      ]
     },
     "execution_count": 41,
     "metadata": {},
     "output_type": "execute_result"
    }
   ],
   "source": [
    "palabra.find('na')"
   ]
  },
  {
   "cell_type": "markdown",
   "metadata": {},
   "source": [
    "Puede tomar como segundo argumento el índice donde debe comenzar: "
   ]
  },
  {
   "cell_type": "code",
   "execution_count": 42,
   "metadata": {},
   "outputs": [
    {
     "data": {
      "text/plain": [
       "3"
      ]
     },
     "execution_count": 42,
     "metadata": {},
     "output_type": "execute_result"
    }
   ],
   "source": [
    "palabra.find('a', 3)"
   ]
  },
  {
   "cell_type": "markdown",
   "metadata": {},
   "source": [
    "Una tarea común es eliminar los espacios en blanco (espacios, tabulaciones o nuevas líneas) del principio y el final de una cadena utilizando el método de la tira: "
   ]
  },
  {
   "cell_type": "code",
   "execution_count": 43,
   "metadata": {},
   "outputs": [
    {
     "data": {
      "text/plain": [
       "'Aquí vamos'"
      ]
     },
     "execution_count": 43,
     "metadata": {},
     "output_type": "execute_result"
    }
   ],
   "source": [
    "linea = '        Aquí vamos            '\n",
    "linea.strip()"
   ]
  },
  {
   "cell_type": "markdown",
   "metadata": {},
   "source": [
    "Algunos métodos como el de empezar con valores booleanos de retorno. "
   ]
  },
  {
   "cell_type": "code",
   "execution_count": 48,
   "metadata": {},
   "outputs": [
    {
     "data": {
      "text/plain": [
       "True"
      ]
     },
     "execution_count": 48,
     "metadata": {},
     "output_type": "execute_result"
    }
   ],
   "source": [
    "linea = 'Que Tengas Un Buen Día'\n",
    "linea.startswith('Que Tengas')"
   ]
  },
  {
   "cell_type": "code",
   "execution_count": 47,
   "metadata": {},
   "outputs": [
    {
     "data": {
      "text/plain": [
       "True"
      ]
     },
     "execution_count": 47,
     "metadata": {},
     "output_type": "execute_result"
    }
   ],
   "source": [
    "linea.startswith('Q')"
   ]
  },
  {
   "cell_type": "markdown",
   "metadata": {},
   "source": [
    "Notarán que el comienzo requiere que el caso coincida, así que a veces tomamos una línea y lo mapeamos todo a minúsculas antes de hacer cualquier verificación usando el método de abajo. "
   ]
  },
  {
   "cell_type": "code",
   "execution_count": 55,
   "metadata": {},
   "outputs": [
    {
     "data": {
      "text/plain": [
       "False"
      ]
     },
     "execution_count": 55,
     "metadata": {},
     "output_type": "execute_result"
    }
   ],
   "source": [
    "linea = 'Que Tengas Un Buen Día'\n",
    "linea.startswith('Tengas')"
   ]
  },
  {
   "cell_type": "code",
   "execution_count": 50,
   "metadata": {},
   "outputs": [
    {
     "data": {
      "text/plain": [
       "'que tengas un buen día'"
      ]
     },
     "execution_count": 50,
     "metadata": {},
     "output_type": "execute_result"
    }
   ],
   "source": [
    "linea.lower() #que tendas un buen dia"
   ]
  },
  {
   "cell_type": "code",
   "execution_count": 56,
   "metadata": {},
   "outputs": [
    {
     "data": {
      "text/plain": [
       "False"
      ]
     },
     "execution_count": 56,
     "metadata": {},
     "output_type": "execute_result"
    }
   ],
   "source": [
    "linea.startswith('q')"
   ]
  },
  {
   "cell_type": "markdown",
   "metadata": {},
   "source": [
    "En el último ejemplo, se llama el método \"lower\" y luego usamos \"startswith\" para ver si la cadena de minúsculas resultante comienza con la letra \"Q\". Siempre que seamos cuidadosos con el orden, podemos hacer múltiples llamadas al método en una sola expresión. "
   ]
  },
  {
   "cell_type": "markdown",
   "metadata": {},
   "source": [
    "# Analizar los string\n",
    "\n",
    "A menudo, queremos mirar en una cadena y encontrar una subcadena. Por ejemplo, si estuviéramos presentó una serie de líneas con el siguiente formato: \n",
    "\n",
    "De stephen.marquard@uct.ac.za Sat Jan 5 09:14:16 2008 \n",
    "\n",
    "y queríamos sacar sólo la segunda mitad de la dirección (es decir, uct.ac.za) de cada línea, podemos hacer esto usando el método **find** y corte de cadenas. \n",
    "\n",
    "Primero, encontraremos la palabra que se encuentra en la posición anterior. Luego encontraremos la posición del primer espacio de la palabra que se encuentra en la posición anterior Y luego usaremos el corte de la cadena para extraer la porción de la palabra que estamos buscando. "
   ]
  },
  {
   "cell_type": "code",
   "execution_count": 57,
   "metadata": {},
   "outputs": [
    {
     "name": "stdout",
     "output_type": "stream",
     "text": [
      "19\n"
     ]
    }
   ],
   "source": [
    "data = 'De stephen.marquard@uct.ac.za Sat Jan 5 09:14:16 2008'\n",
    "enlaposicion = data.find('@')\n",
    "print(enlaposicion)"
   ]
  },
  {
   "cell_type": "code",
   "execution_count": 58,
   "metadata": {},
   "outputs": [
    {
     "name": "stdout",
     "output_type": "stream",
     "text": [
      "29\n"
     ]
    }
   ],
   "source": [
    "espacioenlaposicion = data.find(' ',enlaposicion)\n",
    "print(espacioenlaposicion)"
   ]
  },
  {
   "cell_type": "code",
   "execution_count": 60,
   "metadata": {},
   "outputs": [
    {
     "name": "stdout",
     "output_type": "stream",
     "text": [
      "uct.ac.za\n"
     ]
    }
   ],
   "source": [
    "host = data[enlaposicion+1:espacioenlaposicion]\n",
    "print(host)"
   ]
  },
  {
   "cell_type": "markdown",
   "metadata": {},
   "source": [
    "Utilizamos una versión del método de búsqueda que nos permite especificar una posición en la cadena donde queremos encontrar para empezar a buscar. Cuando cortamos, extraemos la personajes desde \"uno más allá de la señal de \"@\" hasta, pero sin incluir, el espacio del caracter\". \n",
    "\n",
    "La documentación para el método de búsqueda **find** está disponible en https://docs.python.org/library/stdtypes.html#string-methods."
   ]
  },
  {
   "cell_type": "markdown",
   "metadata": {},
   "source": [
    "# Operador de formato\n",
    "\n",
    "El operador de formato, % nos permite construir cadenas, reemplazando partes de las cadenas con los datos almacenados en las variables. Cuando se aplica a números enteros, % es el operador de módulo. Pero cuando el primer operando es una cadena, % es el operador de formato. \n",
    "\n",
    "El primer operando es la cadena de formato, que contiene una o más secuencias de formato que especifican cómo se formatea el segundo operando. El resultado es una cadena.\n",
    "\n",
    "Por ejemplo, la secuencia de formato %d significa que el segundo operando debe formatearse como un número entero (\"d\" significa \"decimal\"): "
   ]
  },
  {
   "cell_type": "code",
   "execution_count": 61,
   "metadata": {},
   "outputs": [
    {
     "data": {
      "text/plain": [
       "'42'"
      ]
     },
     "execution_count": 61,
     "metadata": {},
     "output_type": "execute_result"
    }
   ],
   "source": [
    "camellos = 42\n",
    "'%d' % camellos"
   ]
  },
  {
   "cell_type": "markdown",
   "metadata": {},
   "source": [
    "El resultado es la cadena \"42\", que no debe confundirse con el valor entero 42. \n",
    "\n",
    "Una secuencia de formato puede aparecer en cualquier parte de la cadena, de modo que se puede incrustar un valor en una frase:"
   ]
  },
  {
   "cell_type": "code",
   "execution_count": 63,
   "metadata": {},
   "outputs": [
    {
     "data": {
      "text/plain": [
       "'He visto 45 camellos'"
      ]
     },
     "execution_count": 63,
     "metadata": {},
     "output_type": "execute_result"
    }
   ],
   "source": [
    "camellos = 45\n",
    "'He visto %d camellos' % camellos"
   ]
  },
  {
   "cell_type": "markdown",
   "metadata": {},
   "source": [
    "# Caracteres especiales en el string\n",
    "\n",
    "Como en otros lenguajes, Python tiene caracteres especiales que interpreta dentro de los string. Por ejemplo \\n es un retorno de carro (nueva línea), \\t es un tabulador. En string and bytes literals tienes una tabla completa con todos los caracteres de escape de los string de Python.\n",
    "\n",
    "Podemos, al definir una cadena, usar una r justo delante de la apertura de las comillas. Esto evitará que Python interprete los caracteres especiales y los tratará como caracteres normales."
   ]
  },
  {
   "cell_type": "code",
   "execution_count": 64,
   "metadata": {},
   "outputs": [
    {
     "name": "stdout",
     "output_type": "stream",
     "text": [
      "Hola\n",
      "Mundo\n"
     ]
    }
   ],
   "source": [
    "# Saldrán dos líneas en pantalla, una con Hola, la otra con Mundo\n",
    "cadena = \"Hola\\nMundo\"  \n",
    "print(cadena)"
   ]
  },
  {
   "cell_type": "code",
   "execution_count": 65,
   "metadata": {},
   "outputs": [
    {
     "name": "stdout",
     "output_type": "stream",
     "text": [
      "Hola\\nMundo\n"
     ]
    }
   ],
   "source": [
    "# Saldrá una única línea en pantalla y la \\ y la n será visibles como caracteres normales.\n",
    "cadena2 = r\"Hola\\nMundo\"\n",
    "print(cadena2)"
   ]
  },
  {
   "cell_type": "markdown",
   "metadata": {},
   "source": [
    "# Contar número de veces que el substring aparece en el string : count\n",
    "\n",
    "El método count nos dice cuántas veces aparece el substring dentro del string. Admite un parámetro que es el substring a buscar, y opcionalmente otros dos, los índices de inicio y fin de búsqueda. Veamos ejemplos"
   ]
  },
  {
   "cell_type": "code",
   "execution_count": 66,
   "metadata": {},
   "outputs": [
    {
     "name": "stdout",
     "output_type": "stream",
     "text": [
      "4\n",
      "1\n",
      "1\n"
     ]
    }
   ],
   "source": [
    "cadena = \"un uno, un dos, un tres\"\n",
    "\n",
    "print (cadena.count(\"un\"))        # Saca 4, hay 4 \"un\" en cadena.\n",
    "print (cadena.count(\"un\",10))     # Saca 1, hay 1 \"un\" a partir de la posición 10 de cadena.\n",
    "print (cadena.count(\"un\",5,10))   # Saca 3, hay 3 \"un\" entre la posición 0 y la 10."
   ]
  },
  {
   "cell_type": "markdown",
   "metadata": {},
   "source": [
    "# Reemplazar substring en string : replace\n",
    "\n",
    "El método replace nos permite obtener una copia de la cadena original (no reemplaza en la cadena original) en la que se reemplaza el substring que se le indique por uno nuevo. Admite tres parámetros, el primero es el substring que tiene que buscar, el segundo es el nuevo substring que tiene que poner y el tercero, opcional, es cuántas veces tiene que hacer el reemplazo. Veamos ejemplos"
   ]
  },
  {
   "cell_type": "code",
   "execution_count": 69,
   "metadata": {},
   "outputs": [
    {
     "name": "stdout",
     "output_type": "stream",
     "text": [
      "XXX XXXo, XXX dos, XXX tres\n",
      "XXX XXXo, XXX dos, un tres\n"
     ]
    }
   ],
   "source": [
    "cadena = \"un uno, un dos, un tres\"\n",
    "\n",
    "print (cadena.replace(\"un\", \"XXX\"))        # saca por pantalla \"XXX XXXo, XXX dos, XXX tres\"\n",
    "print (cadena.replace(\"un\", \"XXX\", 3))     # Sólo reemplaza 2 \"un\", así que saca por pantalla \"XXX XXXo, un dos, un tres\""
   ]
  },
  {
   "cell_type": "markdown",
   "metadata": {},
   "source": [
    "# el método format() de string\n",
    "\n",
    "Se pueden definir variables y poner llaves {} en el string donde van a ir los números o caracteres. Entre paréntesis pasamos los valores. Unos ejemplos sencillos"
   ]
  },
  {
   "cell_type": "code",
   "execution_count": 70,
   "metadata": {},
   "outputs": [
    {
     "name": "stdout",
     "output_type": "stream",
     "text": [
      "El valor es 12\n",
      "El valor es 12.3456\n",
      "Los valores son 1, 2 y 3\n",
      "Los valores son 3, 2 y 1\n"
     ]
    }
   ],
   "source": [
    "# saca \"El valor es 12\n",
    "print (\"El valor es {}\".format(12))\n",
    "\n",
    "# saca \"El valor es 12.3456\n",
    "print (\"El valor es {}\".format(12.3456))\n",
    "\n",
    "# Tres conjuntos {}, el primero para el primer parámetro de format(), el segundo para el segundo\n",
    "# y así sucesivamente.\n",
    "# saca \"Los valores son 1, 2 y 3\"\n",
    "print (\"Los valores son {}, {} y {}\".format(1,2,3))\n",
    "\n",
    "# Entre las llaves podemos poner la posición del parámetro. {2} es el tercer parámetro de format()\n",
    "# {0} es el primer parámetro de format.\n",
    "# saca \"Los valores son 3, 2 y 1\"\n",
    "print (\"Los valores son {2}, {1} y {0}\".format(1,2,3))"
   ]
  },
  {
   "cell_type": "markdown",
   "metadata": {},
   "source": [
    "Si a los parámetros les damos nombre, podemos usar ese nombre en vez de su número de posición"
   ]
  },
  {
   "cell_type": "code",
   "execution_count": 71,
   "metadata": {},
   "outputs": [
    {
     "name": "stdout",
     "output_type": "stream",
     "text": [
      "2 y 1\n"
     ]
    }
   ],
   "source": [
    "# saca \"2 y 1\"\n",
    "print (\"{pepe} y {juan}\".format(juan=1, pepe=2))"
   ]
  },
  {
   "cell_type": "markdown",
   "metadata": {},
   "source": [
    "Podemos dar formato a los números para indicar cuántas cifras y decimales queremos, siguiendo una sintaxis similar al operador % que acabamos de ver. También podemos mezclar este formato con el número o nombre de posición del parámetro."
   ]
  },
  {
   "cell_type": "markdown",
   "metadata": {},
   "source": [
    "# Concatenar\n",
    "\n",
    "Este término significa juntar cadenas de caracteres. El proceso de concatenación se realiza mediante el operador de suma (+). Ten en cuenta que debes marcar explícitamente dónde quieres los espacios en blanco y colocarlos entre comillas.\n",
    "\n",
    "En este ejemplo, la cadena de caracteres “mensaje1” tiene el contenido “Hola Mundo”"
   ]
  },
  {
   "cell_type": "code",
   "execution_count": 72,
   "metadata": {},
   "outputs": [
    {
     "name": "stdout",
     "output_type": "stream",
     "text": [
      "Hola Mundo\n"
     ]
    }
   ],
   "source": [
    "mensaje1 = 'Hola' + ' ' + 'Mundo'\n",
    "print(mensaje1)"
   ]
  },
  {
   "cell_type": "markdown",
   "metadata": {},
   "source": [
    "# Multiplicar\n",
    "Si quieres varias copias de una cadena de caracteres utiliza el operador de multiplicación (*). En este ejemplo, la cadena de caracteres mensaje2a lleva el contenido “Hola” tres veces, mientras que la cadena de caracteres mensaje2b tiene el contenido “Mundo”. Ordenemos imprimir las dos cadenas."
   ]
  },
  {
   "cell_type": "code",
   "execution_count": 73,
   "metadata": {},
   "outputs": [
    {
     "name": "stdout",
     "output_type": "stream",
     "text": [
      "Hola Hola Hola Mundo\n"
     ]
    }
   ],
   "source": [
    "mensaje2a = 'Hola ' * 3\n",
    "mensaje2b = 'Mundo'\n",
    "print(mensaje2a + mensaje2b)"
   ]
  },
  {
   "cell_type": "markdown",
   "metadata": {},
   "source": [
    "# Añadir\n",
    "¿Qué pasa si quieres añadir material de manera sucesiva al final de una cadena de caracteres? El operador especial para ello es compuesto (+=)."
   ]
  },
  {
   "cell_type": "code",
   "execution_count": 74,
   "metadata": {},
   "outputs": [
    {
     "name": "stdout",
     "output_type": "stream",
     "text": [
      "Hola Mundo\n"
     ]
    }
   ],
   "source": [
    "mensaje3 = 'Hola'\n",
    "mensaje3 += ' '\n",
    "mensaje3 += 'Mundo'\n",
    "print(mensaje3)"
   ]
  },
  {
   "attachments": {},
   "cell_type": "markdown",
   "metadata": {},
   "source": [
    " # Uso de las funciones split y join\n",
    " Como parte de la manipulación de strings y listas, en este post ilustraremos el uso de las funciones split y join en Python. La función join convierte una lista en una cadena formada por los elementos de la lista separados por comas. Por otro lado, split convierte una cadena de texto en una lista. Por defecto, los elementos de dicha lista serán las palabras de la cadena.\n",
    "\n",
    " "
   ]
  },
  {
   "attachments": {},
   "cell_type": "markdown",
   "metadata": {},
   "source": [
    "Ejemplos del uso de join\n",
    "Para empezar, consideremos la siguiente lista:"
   ]
  },
  {
   "cell_type": "code",
   "execution_count": 75,
   "metadata": {},
   "outputs": [],
   "source": [
    "paises = [ 'Argentina', 'Uruguay', 'Chile', 'Paraguay', 'Brasil', 'Bolivia' ]"
   ]
  },
  {
   "attachments": {},
   "cell_type": "markdown",
   "metadata": {},
   "source": [
    "Si deseamos convertir esta lista en una cadena de texto, utilizaremos la función join de la siguiente manera:\n"
   ]
  },
  {
   "cell_type": "code",
   "execution_count": 78,
   "metadata": {},
   "outputs": [
    {
     "data": {
      "text/plain": [
       "'Argentina-Uruguay-Chile-Paraguay-Brasil-Bolivia'"
      ]
     },
     "execution_count": 78,
     "metadata": {},
     "output_type": "execute_result"
    }
   ],
   "source": [
    "'-'.join(paises)"
   ]
  },
  {
   "attachments": {},
   "cell_type": "markdown",
   "metadata": {},
   "source": [
    "donde sep representa el o los caracteres que deseamos utilizar como delimitador.\n",
    "\n",
    "En concreto,"
   ]
  },
  {
   "cell_type": "code",
   "execution_count": 79,
   "metadata": {},
   "outputs": [],
   "source": [
    "paisesString = ','.join(paises)\n"
   ]
  },
  {
   "attachments": {},
   "cell_type": "markdown",
   "metadata": {},
   "source": [
    "devolverá el siguiente resultado"
   ]
  },
  {
   "cell_type": "code",
   "execution_count": 80,
   "metadata": {},
   "outputs": [
    {
     "name": "stdout",
     "output_type": "stream",
     "text": [
      "Argentina,Uruguay,Chile,Paraguay,Brasil,Bolivia\n"
     ]
    }
   ],
   "source": [
    "print(paisesString)"
   ]
  },
  {
   "attachments": {},
   "cell_type": "markdown",
   "metadata": {},
   "source": [
    "Si deseamos utilizar los caracteres === como separador, tendremos que hacer"
   ]
  },
  {
   "cell_type": "code",
   "execution_count": 81,
   "metadata": {},
   "outputs": [],
   "source": [
    "paisesString = '==='.join(paises)\n"
   ]
  },
  {
   "attachments": {},
   "cell_type": "markdown",
   "metadata": {},
   "source": [
    "obteniendo como resultado"
   ]
  },
  {
   "cell_type": "code",
   "execution_count": 82,
   "metadata": {},
   "outputs": [
    {
     "name": "stdout",
     "output_type": "stream",
     "text": [
      "Argentina===Uruguay===Chile===Paraguay===Brasil===Bolivia\n"
     ]
    }
   ],
   "source": [
    "print(paisesString)"
   ]
  },
  {
   "attachments": {},
   "cell_type": "markdown",
   "metadata": {},
   "source": [
    "# Ejemplo del uso de split\n",
    "Ahora consideremos la siguiente cadena:"
   ]
  },
  {
   "cell_type": "code",
   "execution_count": 83,
   "metadata": {},
   "outputs": [],
   "source": [
    "nombreString = 'Mi nombre es Gabriel'"
   ]
  },
  {
   "attachments": {},
   "cell_type": "markdown",
   "metadata": {},
   "source": [
    "Al utilizar la función split de la siguiente manera"
   ]
  },
  {
   "cell_type": "code",
   "execution_count": 84,
   "metadata": {},
   "outputs": [],
   "source": [
    "nombreLista = nombreString.split()"
   ]
  },
  {
   "attachments": {},
   "cell_type": "markdown",
   "metadata": {},
   "source": [
    "obtendremos lo siguiente:"
   ]
  },
  {
   "cell_type": "code",
   "execution_count": 85,
   "metadata": {},
   "outputs": [
    {
     "name": "stdout",
     "output_type": "stream",
     "text": [
      "['Mi', 'nombre', 'es', 'Gabriel']\n"
     ]
    }
   ],
   "source": [
    "print(nombreLista)"
   ]
  },
  {
   "attachments": {},
   "cell_type": "markdown",
   "metadata": {},
   "source": [
    "Como sucede en el caso de join, también es posible especificar un distinto separador para split. Si en la cadena de texto que deseamos convertir a lista las palabras estuvieran separadas por un salto de línea, como por ejemplo:"
   ]
  },
  {
   "cell_type": "code",
   "execution_count": 86,
   "metadata": {},
   "outputs": [],
   "source": [
    "nombreString = '''Fulano\n",
    "Mengano\n",
    "Suntano'''"
   ]
  },
  {
   "attachments": {},
   "cell_type": "markdown",
   "metadata": {},
   "source": [
    "En este caso,"
   ]
  },
  {
   "cell_type": "code",
   "execution_count": 91,
   "metadata": {},
   "outputs": [],
   "source": [
    "nombreLista = nombreString.split(sep='n')"
   ]
  },
  {
   "attachments": {},
   "cell_type": "markdown",
   "metadata": {},
   "source": [
    "devolverá"
   ]
  },
  {
   "cell_type": "code",
   "execution_count": 90,
   "metadata": {},
   "outputs": [
    {
     "name": "stdout",
     "output_type": "stream",
     "text": [
      "['Fulano', 'Mengano', 'Suntano']\n"
     ]
    }
   ],
   "source": [
    "print(nombreLista)"
   ]
  },
  {
   "attachments": {},
   "cell_type": "markdown",
   "metadata": {},
   "source": [
    "# Qué es el tipo set en Python\n",
    "\n",
    "El tipo set en Python es utilizado para trabajar con conjuntos de elementos. La principal característica de este tipo de datos es que es una colección cuyos elementos no guardan ningún orden y que además son únicos.\n",
    "\n",
    "Estas características hacen que los principales usos de esta clase sean conocer si un elemento pertenece o no a una colección y eliminar duplicados de un tipo secuencial (list, tuple o str).\n",
    "\n",
    "Además, esta clase también implementa las típicas operaciones matemáticas sobre conjuntos: unión, intersección, diferencia, …\n",
    "\n",
    "Para crear un conjunto, basta con encerrar una serie de elementos entre llaves {}, o bien usar el constructor de la clase set() y pasarle como argumento un objeto iterable (como una lista, una tupla, una cadena …)."
   ]
  },
  {
   "cell_type": "code",
   "execution_count": 94,
   "metadata": {},
   "outputs": [
    {
     "data": {
      "text/plain": [
       "{1, 3, 5, 6}"
      ]
     },
     "execution_count": 94,
     "metadata": {},
     "output_type": "execute_result"
    }
   ],
   "source": [
    "# Crea un conjunto con una serie de elementos entre llaves\n",
    "# Los elementos repetidos se eliminan\n",
    "c = {}\n",
    "c\n",
    "{1, 2, 3, 9}\n",
    "\n",
    "# Crea un conjunto a partir de un string\n",
    "# Los caracteres repetidos se eliminan\n",
    "a = set()\n",
    "a\n",
    "{'a', 'H', 'h', 'y', 'n', 's', 'P', 't', ' ', 'i', 'l', 'o'}\n",
    "\n",
    "# Crea un conjunto a partir de una lista\n",
    "# Los elementos repetidos de la lista se eliminan\n",
    "unicos = set([3, 5, 6, 1, 5])\n",
    "unicos\n",
    "{1, 3, 5, 6}"
   ]
  },
  {
   "attachments": {},
   "cell_type": "markdown",
   "metadata": {},
   "source": [
    "Para crear un conjunto vacío, simplemente llama al constructor set() sin parámetros."
   ]
  },
  {
   "attachments": {},
   "cell_type": "markdown",
   "metadata": {},
   "source": [
    "❗️ IMPORTANTE: {} NO crea un conjunto vacío, sino un diccionario vacío. Usa set() si quieres crear un conjunto sin elementos."
   ]
  },
  {
   "attachments": {},
   "cell_type": "markdown",
   "metadata": {},
   "source": [
    "🎯 NOTA: Los elementos que se pueden añadir a un conjunto deben ser de tipo hashable. Un objeto es hashable si tiene un valor de hash que no cambia durante todo su ciclo de vida. En principio, los objetos que son instancias de clases definidas por el usuario son hashables. También lo son la mayoría de tipos inmutables definidos por Python."
   ]
  },
  {
   "attachments": {},
   "cell_type": "markdown",
   "metadata": {},
   "source": [
    "# Añadir elementos a un conjunto (set) en Python\n",
    "\n",
    "Para añadir un elemento a un conjunto se utiliza el método add(). También existe el método update(), que puede tomar como argumento una lista, tupla, string, conjunto o cualquier objeto de tipo iterable."
   ]
  },
  {
   "cell_type": "code",
   "execution_count": 95,
   "metadata": {},
   "outputs": [
    {
     "data": {
      "text/plain": [
       "{1, 2, 3, 4, 5, 6, 7, 9}"
      ]
     },
     "execution_count": 95,
     "metadata": {},
     "output_type": "execute_result"
    }
   ],
   "source": [
    "mi_conjunto = {1, 3, 2, 9, 3, 1}\n",
    "mi_conjunto\n",
    "{1, 2, 3, 9}\n",
    "\n",
    "# Añade el elemento 7 al conjunto\n",
    "mi_conjunto.add(7)\n",
    "mi_conjunto\n",
    "{1, 2, 3, 7, 9}\n",
    "\n",
    "# Añade los elementos 5, 3, 4 y 6 al conjunto\n",
    "# Los elementos repetidos no se añaden al conjunto\n",
    "mi_conjunto.update([5, 3, 4, 6])\n",
    "mi_conjunto\n",
    "{1, 2, 3, 4, 5, 6, 7, 9}"
   ]
  },
  {
   "attachments": {},
   "cell_type": "markdown",
   "metadata": {},
   "source": [
    "🎯 NOTA: add() y update() no añaden elementos que ya existen al conjunto."
   ]
  },
  {
   "attachments": {},
   "cell_type": "markdown",
   "metadata": {},
   "source": [
    "# Eliminar un elemento de un conjunto en Python\n",
    "\n",
    "La clase set ofrece cuatro métodos para eliminar elementos de un conjunto. Son: discard(), remove(), pop() y clear(). A continuación te explico qué hace cada uno de ellos.\n",
    "\n",
    "discard(elemento) y remove(elemento) eliminan elemento del conjunto. La única diferencia es que si elemento no existe, discard() no hace nada mientras que remove() lanza la excepción KeyError.\n",
    "\n",
    "pop() es un tanto peculiar. Este método devuelve un elemento aleatorio del conjunto y lo elimina del mismo. Si el conjunto está vacío, lanza la excepción KeyError.\n",
    "\n",
    "Finalmente, clear() elimina todos los elementos contenidos en el conjunto."
   ]
  },
  {
   "cell_type": "code",
   "execution_count": 96,
   "metadata": {},
   "outputs": [
    {
     "ename": "KeyError",
     "evalue": "7",
     "output_type": "error",
     "traceback": [
      "\u001b[1;31m---------------------------------------------------------------------------\u001b[0m",
      "\u001b[1;31mKeyError\u001b[0m                                  Traceback (most recent call last)",
      "\u001b[1;32md:\\Dropbox\\U\\Clases\\Logica y programacion\\clases\\Clase 9 - Cadenas de caracteres (strings) y operaciones sobre estas.ipynb Cell 129\u001b[0m in \u001b[0;36m<cell line: 17>\u001b[1;34m()\u001b[0m\n\u001b[0;32m     <a href='vscode-notebook-cell:/d%3A/Dropbox/U/Clases/Logica%20y%20programacion/clases/Clase%209%20-%20Cadenas%20de%20caracteres%20%28strings%29%20y%20operaciones%20sobre%20estas.ipynb#Y242sZmlsZQ%3D%3D?line=12'>13</a>\u001b[0m {\u001b[39m2\u001b[39m, \u001b[39m3\u001b[39m, \u001b[39m5\u001b[39m, \u001b[39m6\u001b[39m, \u001b[39m9\u001b[39m}\n\u001b[0;32m     <a href='vscode-notebook-cell:/d%3A/Dropbox/U/Clases/Logica%20y%20programacion/clases/Clase%209%20-%20Cadenas%20de%20caracteres%20%28strings%29%20y%20operaciones%20sobre%20estas.ipynb#Y242sZmlsZQ%3D%3D?line=14'>15</a>\u001b[0m \u001b[39m# Trata de eliminar el elemento 7 (no existe) con remove()\u001b[39;00m\n\u001b[0;32m     <a href='vscode-notebook-cell:/d%3A/Dropbox/U/Clases/Logica%20y%20programacion/clases/Clase%209%20-%20Cadenas%20de%20caracteres%20%28strings%29%20y%20operaciones%20sobre%20estas.ipynb#Y242sZmlsZQ%3D%3D?line=15'>16</a>\u001b[0m \u001b[39m# Lanza la excepción KeyError\u001b[39;00m\n\u001b[1;32m---> <a href='vscode-notebook-cell:/d%3A/Dropbox/U/Clases/Logica%20y%20programacion/clases/Clase%209%20-%20Cadenas%20de%20caracteres%20%28strings%29%20y%20operaciones%20sobre%20estas.ipynb#Y242sZmlsZQ%3D%3D?line=16'>17</a>\u001b[0m mi_conjunto\u001b[39m.\u001b[39;49mremove(\u001b[39m7\u001b[39;49m)\n\u001b[0;32m     <a href='vscode-notebook-cell:/d%3A/Dropbox/U/Clases/Logica%20y%20programacion/clases/Clase%209%20-%20Cadenas%20de%20caracteres%20%28strings%29%20y%20operaciones%20sobre%20estas.ipynb#Y242sZmlsZQ%3D%3D?line=19'>20</a>\u001b[0m \u001b[39m# Trata de eliminar el elemento 7 (no existe) con discard()\u001b[39;00m\n\u001b[0;32m     <a href='vscode-notebook-cell:/d%3A/Dropbox/U/Clases/Logica%20y%20programacion/clases/Clase%209%20-%20Cadenas%20de%20caracteres%20%28strings%29%20y%20operaciones%20sobre%20estas.ipynb#Y242sZmlsZQ%3D%3D?line=20'>21</a>\u001b[0m \u001b[39m# No hace nada\u001b[39;00m\n\u001b[0;32m     <a href='vscode-notebook-cell:/d%3A/Dropbox/U/Clases/Logica%20y%20programacion/clases/Clase%209%20-%20Cadenas%20de%20caracteres%20%28strings%29%20y%20operaciones%20sobre%20estas.ipynb#Y242sZmlsZQ%3D%3D?line=21'>22</a>\u001b[0m mi_conjunto\u001b[39m.\u001b[39mdiscard(\u001b[39m7\u001b[39m)\n",
      "\u001b[1;31mKeyError\u001b[0m: 7"
     ]
    }
   ],
   "source": [
    "mi_conjunto = {1, 3, 2, 9, 3, 1, 6, 4, 5}\n",
    "mi_conjunto\n",
    "{1, 2, 3, 4, 5, 6, 9}\n",
    "\n",
    "# Elimina el elemento 1 con remove()\n",
    "mi_conjunto.remove(1)\n",
    "mi_conjunto\n",
    "{2, 3, 4, 5, 6, 9}\n",
    "\n",
    "# Elimina el elemento 4 con discard()\n",
    "mi_conjunto.discard(4)\n",
    "mi_conjunto\n",
    "{2, 3, 5, 6, 9}\n",
    "\n",
    "# Trata de eliminar el elemento 7 (no existe) con remove()\n",
    "# Lanza la excepción KeyError\n",
    "mi_conjunto.remove(7)\n",
    "\n",
    "\n",
    "# Trata de eliminar el elemento 7 (no existe) con discard()\n",
    "# No hace nada\n",
    "mi_conjunto.discard(7)\n",
    "mi_conjunto\n",
    "{2, 3, 5, 6, 9}\n",
    "\n",
    "# Obtiene y elimina un elemento aleatorio con pop()\n",
    "mi_conjunto.pop()\n",
    "2\n",
    "mi_conjunto\n",
    "{3, 5, 6, 9}\n",
    "\n",
    "# Elimina todos los elementos del conjunto\n",
    "mi_conjunto.clear()\n",
    "mi_conjunto\n",
    "set()"
   ]
  },
  {
   "attachments": {},
   "cell_type": "markdown",
   "metadata": {},
   "source": [
    "# Cómo saber si un elemento está en un conjunto\n",
    "Con los conjuntos también se puede usar el operador de pertenencia in para comprobar si un elemento está contenido, o no, en un conjunto:"
   ]
  },
  {
   "cell_type": "code",
   "execution_count": null,
   "metadata": {},
   "outputs": [],
   "source": [
    "mi_conjunto = set([1, 2, 5, 3, 1, 5])\n",
    "print(1 in mi_conjunto)\n",
    "True\n",
    "print(6 in mi_conjunto)\n",
    "False\n",
    "print(2 not in mi_conjunto)\n",
    "False"
   ]
  }
 ],
 "metadata": {
  "kernelspec": {
   "display_name": "Python 3",
   "language": "python",
   "name": "python3"
  },
  "language_info": {
   "codemirror_mode": {
    "name": "ipython",
    "version": 3
   },
   "file_extension": ".py",
   "mimetype": "text/x-python",
   "name": "python",
   "nbconvert_exporter": "python",
   "pygments_lexer": "ipython3",
   "version": "3.10.8"
  }
 },
 "nbformat": 4,
 "nbformat_minor": 4
}
