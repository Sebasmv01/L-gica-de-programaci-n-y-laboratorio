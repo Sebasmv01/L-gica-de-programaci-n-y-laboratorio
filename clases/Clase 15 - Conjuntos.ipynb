{
 "cells": [
  {
   "cell_type": "markdown",
   "metadata": {},
   "source": [
    "# Creación de un conjunto\n",
    "\n",
    "Para crear un conjunto especificamos sus elementos entre llaves:"
   ]
  },
  {
   "cell_type": "code",
   "execution_count": 1,
   "metadata": {},
   "outputs": [
    {
     "data": {
      "text/plain": [
       "set"
      ]
     },
     "execution_count": 1,
     "metadata": {},
     "output_type": "execute_result"
    }
   ],
   "source": [
    "s = {1, 2, 3, 4}\n",
    "type(s)"
   ]
  },
  {
   "cell_type": "markdown",
   "metadata": {},
   "source": [
    "Al igual que otras colecciones, sus miembros pueden ser de diversos tipos:"
   ]
  },
  {
   "cell_type": "code",
   "execution_count": 2,
   "metadata": {},
   "outputs": [],
   "source": [
    "s = {True, 3.14, None, False, \"Hola mundo\", (1, 2)}"
   ]
  },
  {
   "cell_type": "markdown",
   "metadata": {},
   "source": [
    "No obstante, un conjunto no puede incluir objetos mutables como listas, diccionarios, e incluso otros conjuntos."
   ]
  },
  {
   "cell_type": "code",
   "execution_count": 3,
   "metadata": {},
   "outputs": [
    {
     "ename": "TypeError",
     "evalue": "unhashable type: 'list'",
     "output_type": "error",
     "traceback": [
      "\u001b[1;31m---------------------------------------------------------------------------\u001b[0m",
      "\u001b[1;31mTypeError\u001b[0m                                 Traceback (most recent call last)",
      "\u001b[1;32md:\\Dropbox\\U\\Clases\\Logica y programacion\\clases\\Clase 15 - Conjuntos.ipynb Cell 6\u001b[0m line \u001b[0;36m<cell line: 1>\u001b[1;34m()\u001b[0m\n\u001b[1;32m----> <a href='vscode-notebook-cell:/d%3A/Dropbox/U/Clases/Logica%20y%20programacion/clases/Clase%2015%20-%20Conjuntos.ipynb#W5sZmlsZQ%3D%3D?line=0'>1</a>\u001b[0m s \u001b[39m=\u001b[39m {[\u001b[39m1\u001b[39m, \u001b[39m2\u001b[39m]}\n",
      "\u001b[1;31mTypeError\u001b[0m: unhashable type: 'list'"
     ]
    }
   ],
   "source": [
    "s = {[1, 2]}"
   ]
  },
  {
   "cell_type": "markdown",
   "metadata": {},
   "source": [
    "Python distingue este tipo operación de la creación de un diccionario ya que no incluye dos puntos. Sin embargo, no puede dirimir el siguiente caso:"
   ]
  },
  {
   "cell_type": "code",
   "execution_count": 6,
   "metadata": {},
   "outputs": [
    {
     "data": {
      "text/plain": [
       "dict"
      ]
     },
     "execution_count": 6,
     "metadata": {},
     "output_type": "execute_result"
    }
   ],
   "source": [
    "s = {}\n",
    "type(s)"
   ]
  },
  {
   "cell_type": "markdown",
   "metadata": {},
   "source": [
    "Por defecto, la asignación anterior crea un diccionario. Para generar un conjunto vacío, directamente creamos una instancia de la clase set:"
   ]
  },
  {
   "cell_type": "code",
   "execution_count": 5,
   "metadata": {},
   "outputs": [],
   "source": [
    "s = set()"
   ]
  },
  {
   "cell_type": "markdown",
   "metadata": {},
   "source": [
    "De la misma forma podemos obtener un conjunto a partir de cualquier objeto iterable:"
   ]
  },
  {
   "cell_type": "code",
   "execution_count": 9,
   "metadata": {},
   "outputs": [
    {
     "name": "stdout",
     "output_type": "stream",
     "text": [
      "{1, 2, 3, 4}\n",
      "{0, 1, 2, 3, 4, 5, 6, 7, 8, 9}\n"
     ]
    }
   ],
   "source": [
    "s1 = set([1, 2, 3, 4])\n",
    "s2 = set(range(10))\n",
    "print(s1)\n",
    "print(s2)"
   ]
  },
  {
   "cell_type": "markdown",
   "metadata": {},
   "source": [
    "Un set puede ser convertido a una lista y viceversa. En este último caso, los elementos duplicados son unificados."
   ]
  },
  {
   "cell_type": "code",
   "execution_count": 10,
   "metadata": {},
   "outputs": [
    {
     "data": {
      "text/plain": [
       "[1, 2, 3, 4]"
      ]
     },
     "execution_count": 10,
     "metadata": {},
     "output_type": "execute_result"
    }
   ],
   "source": [
    "list({1, 2, 3, 4})"
   ]
  },
  {
   "cell_type": "code",
   "execution_count": 12,
   "metadata": {},
   "outputs": [
    {
     "data": {
      "text/plain": [
       "{1, 2, 3, 4}"
      ]
     },
     "execution_count": 12,
     "metadata": {},
     "output_type": "execute_result"
    }
   ],
   "source": [
    "set([1, 2, 2, 3, 4])"
   ]
  },
  {
   "cell_type": "code",
   "execution_count": 11,
   "metadata": {},
   "outputs": [
    {
     "name": "stdout",
     "output_type": "stream",
     "text": [
      "{1, 2, 3, 9}\n"
     ]
    }
   ],
   "source": [
    "# Crea un conjunto con una serie de elementos entre llaves\n",
    "# Los elementos repetidos se eliminan\n",
    "c = {1, 3, 2, 9, 3, 1}\n",
    "print(c)"
   ]
  },
  {
   "cell_type": "code",
   "execution_count": 12,
   "metadata": {},
   "outputs": [
    {
     "name": "stdout",
     "output_type": "stream",
     "text": [
      "{'h', ' ', 'a', 'H', 't', 'P', 'y', 's', 'l', 'n', 'o', 'i'}\n"
     ]
    }
   ],
   "source": [
    "# Crea un conjunto a partir de un string\n",
    "# Los caracteres repetidos se eliminan\n",
    "a = set('Hola Pythonista')\n",
    "print(a)"
   ]
  },
  {
   "cell_type": "code",
   "execution_count": 13,
   "metadata": {},
   "outputs": [
    {
     "name": "stdout",
     "output_type": "stream",
     "text": [
      "{1, 3, 5, 6}\n"
     ]
    }
   ],
   "source": [
    "# Crea un conjunto a partir de una lista\n",
    "# Los elementos repetidos de la lista se eliminan\n",
    "unicos = set([3, 5, 6, 1, 5])\n",
    "print(unicos)"
   ]
  },
  {
   "cell_type": "markdown",
   "metadata": {},
   "source": [
    "# Cómo acceder a los elementos de un conjunto en Python\n",
    "\n",
    "Dado que los conjuntos son colecciones desordenadas, en ellos no se guarda la posición en la que son insertados los elementos como ocurre en los tipos list o tuple. Es por ello que no se puede acceder a los elementos a través de un índice.\n",
    "\n",
    "Sin embargo, sí se puede acceder y/o recorrer todos los elementos de un conjunto usando un bucle for:"
   ]
  },
  {
   "cell_type": "code",
   "execution_count": 16,
   "metadata": {},
   "outputs": [
    {
     "name": "stdout",
     "output_type": "stream",
     "text": [
      "{1, 2, 3, 9}\n",
      "1\n",
      "2\n",
      "3\n",
      "9\n"
     ]
    }
   ],
   "source": [
    "mi_conjunto = {1, 3, 2, 9, 3, 1}\n",
    "print(mi_conjunto)\n",
    "for numero in mi_conjunto:\n",
    "    print(numero)"
   ]
  },
  {
   "cell_type": "code",
   "execution_count": 14,
   "metadata": {},
   "outputs": [
    {
     "name": "stdout",
     "output_type": "stream",
     "text": [
      "{1, 2, 3, 9}\n",
      "1\n",
      "2\n",
      "3\n",
      "9\n"
     ]
    }
   ],
   "source": [
    "mi_conjunto = {1, 3, 2, 9, 3, 1}\n",
    "print(mi_conjunto)\n",
    "\n",
    "conjunto_lista = list(mi_conjunto)\n",
    "numero = 0\n",
    "while numero < len(conjunto_lista):\n",
    "    i = conjunto_lista[numero]\n",
    "    print(i)\n",
    "    numero += 1\n"
   ]
  },
  {
   "cell_type": "markdown",
   "metadata": {},
   "source": [
    "# Métodos\n",
    "\n",
    "Los objetos de tipo conjunto mutable y conjunto inmutable integra una serie de métodos integrados a continuación:\n",
    "\n",
    "# add()\n",
    "\n",
    "Este método agrega un elemento a un conjunto mutable. Esto no tiene efecto si el elemento ya esta presente."
   ]
  },
  {
   "cell_type": "code",
   "execution_count": 15,
   "metadata": {},
   "outputs": [
    {
     "name": "stdout",
     "output_type": "stream",
     "text": [
      "{1, 2, 3, 4, 5, 7, 11}\n"
     ]
    }
   ],
   "source": [
    "set_mutable1 = set([4, 3, 11, 7, 5, 2, 1, 4])\n",
    "print(set_mutable1)"
   ]
  },
  {
   "cell_type": "code",
   "execution_count": 16,
   "metadata": {},
   "outputs": [
    {
     "name": "stdout",
     "output_type": "stream",
     "text": [
      "{1, 2, 3, 4, 5, 7, 11, 22.000001}\n"
     ]
    }
   ],
   "source": [
    "set_mutable1.add(22.000001)\n",
    "print(set_mutable1)"
   ]
  },
  {
   "cell_type": "markdown",
   "metadata": {},
   "source": [
    "# clear()\n",
    "\n",
    "Este método remueve todos los elementos desde este conjunto mutable."
   ]
  },
  {
   "cell_type": "code",
   "execution_count": 17,
   "metadata": {},
   "outputs": [
    {
     "name": "stdout",
     "output_type": "stream",
     "text": [
      "{1, 2, 3, 4, 5, 7, 11}\n"
     ]
    }
   ],
   "source": [
    "set_mutable1 = set([4, 3, 11, 7, 5, 2, 1, 4])\n",
    "print(set_mutable1)"
   ]
  },
  {
   "cell_type": "code",
   "execution_count": 18,
   "metadata": {},
   "outputs": [
    {
     "name": "stdout",
     "output_type": "stream",
     "text": [
      "set()\n"
     ]
    }
   ],
   "source": [
    "set_mutable1.clear()\n",
    "print(set_mutable1)"
   ]
  },
  {
   "cell_type": "markdown",
   "metadata": {},
   "source": [
    "# copy()\n",
    "\n",
    "Este método devuelve una copia superficial del tipo conjunto mutable o conjunto inmutable:"
   ]
  },
  {
   "cell_type": "code",
   "execution_count": 21,
   "metadata": {},
   "outputs": [
    {
     "data": {
      "text/plain": [
       "True"
      ]
     },
     "execution_count": 21,
     "metadata": {},
     "output_type": "execute_result"
    }
   ],
   "source": [
    "set_mutable = set([4.0, 'Carro', True])\n",
    "otro_set_mutable = set_mutable.copy()\n",
    "set_mutable == otro_set_mutable"
   ]
  },
  {
   "cell_type": "markdown",
   "metadata": {},
   "source": [
    "# difference()\n",
    "\n",
    "Este método devuelve la diferencia entre dos conjunto mutable o conjunto inmutable: todos los elementos que están en el primero, pero no en el argumento."
   ]
  },
  {
   "cell_type": "code",
   "execution_count": 19,
   "metadata": {},
   "outputs": [],
   "source": [
    "set_mutable1 = set([4, 3, 11, 7, 5, 2, 1, 4])\n",
    "set_mutable2 = set([11, 5, 9, 2, 4, 8])"
   ]
  },
  {
   "cell_type": "code",
   "execution_count": 20,
   "metadata": {},
   "outputs": [
    {
     "name": "stdout",
     "output_type": "stream",
     "text": [
      "{1, 2, 3, 4, 5, 7, 11}\n"
     ]
    }
   ],
   "source": [
    "print(set_mutable1)"
   ]
  },
  {
   "cell_type": "code",
   "execution_count": 21,
   "metadata": {},
   "outputs": [
    {
     "name": "stdout",
     "output_type": "stream",
     "text": [
      "{2, 4, 5, 8, 9, 11}\n"
     ]
    }
   ],
   "source": [
    "print(set_mutable2)"
   ]
  },
  {
   "cell_type": "code",
   "execution_count": 22,
   "metadata": {},
   "outputs": [
    {
     "name": "stdout",
     "output_type": "stream",
     "text": [
      "{1, 3, 7}\n"
     ]
    }
   ],
   "source": [
    "print(set_mutable1.difference(set_mutable2))"
   ]
  },
  {
   "cell_type": "code",
   "execution_count": 23,
   "metadata": {},
   "outputs": [
    {
     "name": "stdout",
     "output_type": "stream",
     "text": [
      "{8, 9}\n"
     ]
    }
   ],
   "source": [
    "print(set_mutable2.difference(set_mutable1))"
   ]
  },
  {
   "cell_type": "markdown",
   "metadata": {},
   "source": [
    "La diferencia también se puede generar de la siguiente manera. Se retorna un nuevo conjunto que contiene los elementos de a que no están en b."
   ]
  },
  {
   "cell_type": "code",
   "execution_count": 24,
   "metadata": {},
   "outputs": [
    {
     "name": "stdout",
     "output_type": "stream",
     "text": [
      "{1, 4}\n"
     ]
    }
   ],
   "source": [
    "a = {1, 2, 3, 4}\n",
    "b = {2, 3}\n",
    "c = a - b\n",
    "print(c)"
   ]
  },
  {
   "cell_type": "markdown",
   "metadata": {},
   "source": [
    "Dos conjuntos son iguales si y solo si contienen los mismos elementos (a esto se lo conoce como principio de extensionalidad):"
   ]
  },
  {
   "cell_type": "code",
   "execution_count": 25,
   "metadata": {},
   "outputs": [
    {
     "data": {
      "text/plain": [
       "True"
      ]
     },
     "execution_count": 25,
     "metadata": {},
     "output_type": "execute_result"
    }
   ],
   "source": [
    "{1, 2, 3} == {3, 2, 1}"
   ]
  },
  {
   "cell_type": "code",
   "execution_count": 26,
   "metadata": {},
   "outputs": [
    {
     "data": {
      "text/plain": [
       "False"
      ]
     },
     "execution_count": 26,
     "metadata": {},
     "output_type": "execute_result"
    }
   ],
   "source": [
    "{1, 2, 3} == {1, 2, 6}"
   ]
  },
  {
   "cell_type": "markdown",
   "metadata": {},
   "source": [
    "# difference_update()\n",
    "\n",
    "Este método actualiza un tipo conjunto mutable llamando al método difference_update() con la diferencia de los conjuntos."
   ]
  },
  {
   "cell_type": "code",
   "execution_count": 27,
   "metadata": {},
   "outputs": [
    {
     "data": {
      "text/plain": [
       "{'ZODB3', 'Zope2', 'python', 'pytz'}"
      ]
     },
     "execution_count": 27,
     "metadata": {},
     "output_type": "execute_result"
    }
   ],
   "source": [
    "proyecto1 = {'python', 'Zope2', 'ZODB3', 'pytz'}\n",
    "proyecto1"
   ]
  },
  {
   "cell_type": "code",
   "execution_count": 28,
   "metadata": {},
   "outputs": [
    {
     "data": {
      "text/plain": [
       "{'Plone', 'diazo', 'python'}"
      ]
     },
     "execution_count": 28,
     "metadata": {},
     "output_type": "execute_result"
    }
   ],
   "source": [
    "proyecto2 = {'python', 'Plone', 'diazo'}\n",
    "proyecto2"
   ]
  },
  {
   "cell_type": "code",
   "execution_count": 29,
   "metadata": {},
   "outputs": [
    {
     "data": {
      "text/plain": [
       "{'ZODB3', 'Zope2', 'pytz'}"
      ]
     },
     "execution_count": 29,
     "metadata": {},
     "output_type": "execute_result"
    }
   ],
   "source": [
    "proyecto1.difference_update(proyecto2)\n",
    "proyecto1"
   ]
  },
  {
   "cell_type": "markdown",
   "metadata": {},
   "source": [
    "Si proyecto1 y proyecto2 son dos conjuntos. La diferencia del conjunto proyecto1 y conjunto proyecto2 es un conjunto de elementos que existen solamente en el conjunto proyecto1 pero no en el conjunto proyecto2."
   ]
  },
  {
   "cell_type": "markdown",
   "metadata": {},
   "source": [
    "# discard()\n",
    "\n",
    "Este método remueve un elemento desde un conjunto mutable si esta presente."
   ]
  },
  {
   "cell_type": "code",
   "execution_count": 30,
   "metadata": {},
   "outputs": [
    {
     "data": {
      "text/plain": [
       "{'django', 'plone', 'python', 'zope'}"
      ]
     },
     "execution_count": 30,
     "metadata": {},
     "output_type": "execute_result"
    }
   ],
   "source": [
    "paquetes = {'python', 'zope', 'plone', 'django'}\n",
    "paquetes"
   ]
  },
  {
   "cell_type": "code",
   "execution_count": 31,
   "metadata": {},
   "outputs": [
    {
     "data": {
      "text/plain": [
       "{'plone', 'python', 'zope'}"
      ]
     },
     "execution_count": 31,
     "metadata": {},
     "output_type": "execute_result"
    }
   ],
   "source": [
    "paquetes.discard('django')\n",
    "paquetes"
   ]
  },
  {
   "cell_type": "markdown",
   "metadata": {},
   "source": [
    "El conjunto mutable permanece sin cambio si el elemento pasado como argumento al método discard() no existe."
   ]
  },
  {
   "cell_type": "code",
   "execution_count": 32,
   "metadata": {},
   "outputs": [
    {
     "data": {
      "text/plain": [
       "{'django', 'plone', 'python', 'zope'}"
      ]
     },
     "execution_count": 32,
     "metadata": {},
     "output_type": "execute_result"
    }
   ],
   "source": [
    "paquetes = {'python', 'zope', 'plone', 'django'}\n",
    "paquetes.discard('php')\n",
    "paquetes"
   ]
  },
  {
   "cell_type": "markdown",
   "metadata": {},
   "source": [
    "# intersection()\n",
    "\n",
    "Este método devuelve la intersección entre los conjuntos mutables o conjuntos inmutables: todos los elementos que están en ambos."
   ]
  },
  {
   "cell_type": "code",
   "execution_count": 33,
   "metadata": {},
   "outputs": [],
   "source": [
    "set_mutable1 = set([4, 3, 11, 7, 5, 2, 1, 4])\n",
    "set_mutable2 = set([11, 5, 9, 2, 4, 8])"
   ]
  },
  {
   "cell_type": "code",
   "execution_count": 34,
   "metadata": {},
   "outputs": [
    {
     "name": "stdout",
     "output_type": "stream",
     "text": [
      "{1, 2, 3, 4, 5, 7, 11}\n"
     ]
    }
   ],
   "source": [
    "print(set_mutable1)"
   ]
  },
  {
   "cell_type": "code",
   "execution_count": 35,
   "metadata": {},
   "outputs": [
    {
     "name": "stdout",
     "output_type": "stream",
     "text": [
      "{2, 4, 5, 8, 9, 11}\n"
     ]
    }
   ],
   "source": [
    "print(set_mutable2)"
   ]
  },
  {
   "cell_type": "code",
   "execution_count": 36,
   "metadata": {},
   "outputs": [
    {
     "name": "stdout",
     "output_type": "stream",
     "text": [
      "{2, 11, 4, 5}\n"
     ]
    }
   ],
   "source": [
    "print(set_mutable1.intersection(set_mutable2))"
   ]
  },
  {
   "cell_type": "code",
   "execution_count": 40,
   "metadata": {},
   "outputs": [
    {
     "name": "stdout",
     "output_type": "stream",
     "text": [
      "{2, 11, 4, 5}\n"
     ]
    }
   ],
   "source": [
    "print(set_mutable2.intersection(set_mutable1))"
   ]
  },
  {
   "cell_type": "markdown",
   "metadata": {},
   "source": [
    "También se puede expresar de la siguiente forma\n",
    "La intersección opera de forma análoga, pero con el operador &, y retorna un nuevo conjunto con los elementos que se encuentran en ambos."
   ]
  },
  {
   "cell_type": "code",
   "execution_count": 37,
   "metadata": {},
   "outputs": [
    {
     "name": "stdout",
     "output_type": "stream",
     "text": [
      "{2, 11, 4, 5}\n"
     ]
    }
   ],
   "source": [
    "set_intersection = set_mutable1 & set_mutable2\n",
    "print(set_intersection)"
   ]
  },
  {
   "cell_type": "markdown",
   "metadata": {},
   "source": [
    "# intersection_update()\n",
    "\n",
    "Este método actualiza un conjunto mutable con la intersección de ese mismo y otro conjunto mutable.\n",
    "\n",
    "El método intersection_update() le permite arbitrariamente varios numero de argumentos (conjuntos)."
   ]
  },
  {
   "cell_type": "code",
   "execution_count": 38,
   "metadata": {},
   "outputs": [
    {
     "data": {
      "text/plain": [
       "{'Zope2', 'python', 'pytz'}"
      ]
     },
     "execution_count": 38,
     "metadata": {},
     "output_type": "execute_result"
    }
   ],
   "source": [
    "proyecto1 = {'python', 'Zope2', 'pytz'}\n",
    "proyecto1"
   ]
  },
  {
   "cell_type": "code",
   "execution_count": 39,
   "metadata": {},
   "outputs": [
    {
     "data": {
      "text/plain": [
       "{'Plone', 'diazo', 'python', 'z3c.form'}"
      ]
     },
     "execution_count": 39,
     "metadata": {},
     "output_type": "execute_result"
    }
   ],
   "source": [
    "proyecto2 = {'python', 'Plone', 'diazo', 'z3c.form'}\n",
    "proyecto2"
   ]
  },
  {
   "cell_type": "code",
   "execution_count": 40,
   "metadata": {},
   "outputs": [
    {
     "data": {
      "text/plain": [
       "{'django', 'django-filter', 'python'}"
      ]
     },
     "execution_count": 40,
     "metadata": {},
     "output_type": "execute_result"
    }
   ],
   "source": [
    "proyecto3 = {'python', 'django', 'django-filter'}\n",
    "proyecto3"
   ]
  },
  {
   "cell_type": "code",
   "execution_count": 45,
   "metadata": {},
   "outputs": [
    {
     "data": {
      "text/plain": [
       "{'python'}"
      ]
     },
     "execution_count": 45,
     "metadata": {},
     "output_type": "execute_result"
    }
   ],
   "source": [
    "proyecto3.intersection_update(proyecto1, proyecto2)\n",
    "proyecto3"
   ]
  },
  {
   "cell_type": "markdown",
   "metadata": {},
   "source": [
    "La intersección de dos o mas conjuntos es el conjunto de elemento el cual es común a todos los conjuntos."
   ]
  },
  {
   "cell_type": "markdown",
   "metadata": {},
   "source": [
    "# isdisjoint()\n",
    "\n",
    "Este método devuelve el valor True si no hay elementos comunes entre los conjuntos mutables o conjuntos inmutables."
   ]
  },
  {
   "cell_type": "code",
   "execution_count": 41,
   "metadata": {},
   "outputs": [],
   "source": [
    "set_mutable1 = set([4, 3, 11, 7, 5, 2, 1, 4])\n",
    "set_mutable2 = set([11, 5, 9, 2, 4, 8])"
   ]
  },
  {
   "cell_type": "code",
   "execution_count": 42,
   "metadata": {},
   "outputs": [],
   "source": [
    "set_mutable1 = set([4, 3, 11, 7, 5, 2, 1, 4])\n",
    "set_mutable2 = set([11, 5, 9, 2, 4, 8])"
   ]
  },
  {
   "cell_type": "code",
   "execution_count": 43,
   "metadata": {},
   "outputs": [
    {
     "name": "stdout",
     "output_type": "stream",
     "text": [
      "{1, 2, 3, 4, 5, 7, 11}\n"
     ]
    }
   ],
   "source": [
    "print(set_mutable1)"
   ]
  },
  {
   "cell_type": "code",
   "execution_count": 44,
   "metadata": {},
   "outputs": [
    {
     "name": "stdout",
     "output_type": "stream",
     "text": [
      "{2, 4, 5, 8, 9, 11}\n"
     ]
    }
   ],
   "source": [
    "print(set_mutable2)"
   ]
  },
  {
   "cell_type": "code",
   "execution_count": 45,
   "metadata": {},
   "outputs": [
    {
     "name": "stdout",
     "output_type": "stream",
     "text": [
      "False\n"
     ]
    }
   ],
   "source": [
    "print(set_mutable1.isdisjoint(set_mutable2))"
   ]
  },
  {
   "cell_type": "markdown",
   "metadata": {},
   "source": [
    "# issubset()\n",
    "\n",
    "Este método devuelve el valor True si el conjunto mutable es un subconjunto del conjunto mutable o del conjunto inmutable argumento."
   ]
  },
  {
   "cell_type": "code",
   "execution_count": 46,
   "metadata": {},
   "outputs": [],
   "source": [
    "set_mutable1 = set([4, 3, 11, 7, 5, 2, 1, 4])\n",
    "set_mutable2 = set([11, 5, 9, 2, 4, 8])\n",
    "set_mutable3 = set([11, 5, 2, 4])"
   ]
  },
  {
   "cell_type": "code",
   "execution_count": 47,
   "metadata": {},
   "outputs": [
    {
     "name": "stdout",
     "output_type": "stream",
     "text": [
      "{1, 2, 3, 4, 5, 7, 11}\n"
     ]
    }
   ],
   "source": [
    "print( set_mutable1)"
   ]
  },
  {
   "cell_type": "code",
   "execution_count": 48,
   "metadata": {},
   "outputs": [
    {
     "name": "stdout",
     "output_type": "stream",
     "text": [
      "{2, 4, 5, 8, 9, 11}\n"
     ]
    }
   ],
   "source": [
    "print(set_mutable2)"
   ]
  },
  {
   "cell_type": "code",
   "execution_count": 52,
   "metadata": {},
   "outputs": [
    {
     "name": "stdout",
     "output_type": "stream",
     "text": [
      "{2, 11, 4, 5}\n"
     ]
    }
   ],
   "source": [
    "print(set_mutable3)"
   ]
  },
  {
   "cell_type": "code",
   "execution_count": 50,
   "metadata": {},
   "outputs": [
    {
     "name": "stdout",
     "output_type": "stream",
     "text": [
      "False\n"
     ]
    }
   ],
   "source": [
    "print(set_mutable2.issubset(set_mutable1))"
   ]
  },
  {
   "cell_type": "code",
   "execution_count": 51,
   "metadata": {},
   "outputs": [
    {
     "name": "stdout",
     "output_type": "stream",
     "text": [
      "True\n"
     ]
    }
   ],
   "source": [
    "print(set_mutable3.issubset(set_mutable1))"
   ]
  },
  {
   "cell_type": "markdown",
   "metadata": {},
   "source": [
    "# issuperset()\n",
    "\n",
    "Este método devuelve el valor True si el conjunto mutable o el conjunto inmutable es un superset del conjunto mutable argumento."
   ]
  },
  {
   "cell_type": "code",
   "execution_count": 53,
   "metadata": {},
   "outputs": [],
   "source": [
    "set_mutable1 = set([4, 3, 11, 7, 5, 2, 1, 4])\n",
    "set_mutable2 = set([11, 5, 9, 2, 4, 8])\n",
    "set_mutable3 = set([11, 5, 2, 4])"
   ]
  },
  {
   "cell_type": "code",
   "execution_count": 54,
   "metadata": {},
   "outputs": [
    {
     "name": "stdout",
     "output_type": "stream",
     "text": [
      "{1, 2, 3, 4, 5, 7, 11}\n"
     ]
    }
   ],
   "source": [
    "print(set_mutable1)"
   ]
  },
  {
   "cell_type": "code",
   "execution_count": 55,
   "metadata": {},
   "outputs": [
    {
     "name": "stdout",
     "output_type": "stream",
     "text": [
      "{2, 4, 5, 8, 9, 11}\n"
     ]
    }
   ],
   "source": [
    "print(set_mutable2)"
   ]
  },
  {
   "cell_type": "code",
   "execution_count": 56,
   "metadata": {},
   "outputs": [
    {
     "name": "stdout",
     "output_type": "stream",
     "text": [
      "{2, 11, 4, 5}\n"
     ]
    }
   ],
   "source": [
    "print(set_mutable3)"
   ]
  },
  {
   "cell_type": "code",
   "execution_count": 57,
   "metadata": {},
   "outputs": [
    {
     "name": "stdout",
     "output_type": "stream",
     "text": [
      "False\n"
     ]
    }
   ],
   "source": [
    "print(set_mutable1.issuperset(set_mutable2))"
   ]
  },
  {
   "cell_type": "code",
   "execution_count": 58,
   "metadata": {},
   "outputs": [
    {
     "name": "stdout",
     "output_type": "stream",
     "text": [
      "True\n"
     ]
    }
   ],
   "source": [
    "print(set_mutable1.issuperset(set_mutable3))"
   ]
  },
  {
   "cell_type": "markdown",
   "metadata": {},
   "source": [
    "# pop()\n",
    "\n",
    "Este método remueve arbitrariamente y devuelve un elemento de conjunto mutable. El método pop() no toma ningún argumento. Si el conjunto mutable esta vacío se lanza una excepción KeyError."
   ]
  },
  {
   "cell_type": "code",
   "execution_count": 59,
   "metadata": {},
   "outputs": [
    {
     "data": {
      "text/plain": [
       "{'django', 'plone', 'python', 'zope'}"
      ]
     },
     "execution_count": 59,
     "metadata": {},
     "output_type": "execute_result"
    }
   ],
   "source": [
    "paquetes = {'python', 'zope', 'plone', 'django'}\n",
    "paquetes"
   ]
  },
  {
   "cell_type": "code",
   "execution_count": 64,
   "metadata": {},
   "outputs": [
    {
     "ename": "KeyError",
     "evalue": "'pop from an empty set'",
     "output_type": "error",
     "traceback": [
      "\u001b[1;31m---------------------------------------------------------------------------\u001b[0m",
      "\u001b[1;31mKeyError\u001b[0m                                  Traceback (most recent call last)",
      "\u001b[1;32md:\\Dropbox\\U\\Clases\\Logica y programacion\\clases\\Clase 15 - Conjuntos.ipynb Cell 87\u001b[0m line \u001b[0;36m<cell line: 1>\u001b[1;34m()\u001b[0m\n\u001b[1;32m----> <a href='vscode-notebook-cell:/d%3A/Dropbox/U/Clases/Logica%20y%20programacion/clases/Clase%2015%20-%20Conjuntos.ipynb#Y151sZmlsZQ%3D%3D?line=0'>1</a>\u001b[0m \u001b[39mprint\u001b[39m(\u001b[39m\"\u001b[39m\u001b[39mValor aleatorio devuelto es:\u001b[39m\u001b[39m\"\u001b[39m, paquetes\u001b[39m.\u001b[39;49mpop())\n",
      "\u001b[1;31mKeyError\u001b[0m: 'pop from an empty set'"
     ]
    }
   ],
   "source": [
    "print(\"Valor aleatorio devuelto es:\", paquetes.pop())"
   ]
  },
  {
   "cell_type": "code",
   "execution_count": 65,
   "metadata": {},
   "outputs": [
    {
     "name": "stdout",
     "output_type": "stream",
     "text": [
      "set()\n"
     ]
    }
   ],
   "source": [
    "print(paquetes)"
   ]
  },
  {
   "cell_type": "code",
   "execution_count": 66,
   "metadata": {},
   "outputs": [
    {
     "ename": "KeyError",
     "evalue": "'pop from an empty set'",
     "output_type": "error",
     "traceback": [
      "\u001b[1;31m---------------------------------------------------------------------------\u001b[0m",
      "\u001b[1;31mKeyError\u001b[0m                                  Traceback (most recent call last)",
      "\u001b[1;32md:\\Dropbox\\U\\Clases\\Logica y programacion\\clases\\Clase 15 - Conjuntos.ipynb Cell 89\u001b[0m line \u001b[0;36m<cell line: 1>\u001b[1;34m()\u001b[0m\n\u001b[1;32m----> <a href='vscode-notebook-cell:/d%3A/Dropbox/U/Clases/Logica%20y%20programacion/clases/Clase%2015%20-%20Conjuntos.ipynb#Y153sZmlsZQ%3D%3D?line=0'>1</a>\u001b[0m \u001b[39mprint\u001b[39m(\u001b[39m\"\u001b[39m\u001b[39mValor aleatorio devuelto es:\u001b[39m\u001b[39m\"\u001b[39m, paquetes\u001b[39m.\u001b[39;49mpop())\n",
      "\u001b[1;31mKeyError\u001b[0m: 'pop from an empty set'"
     ]
    }
   ],
   "source": [
    "print(\"Valor aleatorio devuelto es:\", paquetes.pop())"
   ]
  },
  {
   "cell_type": "code",
   "execution_count": 71,
   "metadata": {},
   "outputs": [
    {
     "data": {
      "text/plain": [
       "set()"
      ]
     },
     "execution_count": 71,
     "metadata": {},
     "output_type": "execute_result"
    }
   ],
   "source": [
    "paquetes"
   ]
  },
  {
   "cell_type": "code",
   "execution_count": null,
   "metadata": {},
   "outputs": [],
   "source": [
    "print(\"Valor aleatorio devuelto es:\", paquetes.pop())"
   ]
  },
  {
   "cell_type": "code",
   "execution_count": null,
   "metadata": {},
   "outputs": [],
   "source": [
    "paquetes"
   ]
  },
  {
   "cell_type": "code",
   "execution_count": null,
   "metadata": {},
   "outputs": [],
   "source": [
    "print( \"Valor aleatorio devuelto es:\", paquetes.pop())"
   ]
  },
  {
   "cell_type": "code",
   "execution_count": null,
   "metadata": {},
   "outputs": [],
   "source": [
    "print(\"Valor aleatorio devuelto es:\", paquetes.pop())"
   ]
  },
  {
   "cell_type": "markdown",
   "metadata": {},
   "source": [
    "Tenga en cuenta que usted podría obtener diferente salida devueltas usando el método pop() por que remueve aleatoriamente un elemento."
   ]
  },
  {
   "cell_type": "markdown",
   "metadata": {},
   "source": [
    "# remove()\n",
    "\n",
    "Este método busca y remueve un elemento de un conjunto mutable, si debe ser un miembro."
   ]
  },
  {
   "cell_type": "code",
   "execution_count": 72,
   "metadata": {},
   "outputs": [
    {
     "data": {
      "text/plain": [
       "{'django', 'plone', 'python', 'zope'}"
      ]
     },
     "execution_count": 72,
     "metadata": {},
     "output_type": "execute_result"
    }
   ],
   "source": [
    "paquetes = {'python', 'zope', 'plone', 'django'}\n",
    "paquetes"
   ]
  },
  {
   "cell_type": "code",
   "execution_count": 74,
   "metadata": {},
   "outputs": [
    {
     "ename": "KeyError",
     "evalue": "'djngo'",
     "output_type": "error",
     "traceback": [
      "\u001b[1;31m---------------------------------------------------------------------------\u001b[0m",
      "\u001b[1;31mKeyError\u001b[0m                                  Traceback (most recent call last)",
      "\u001b[1;32md:\\Dropbox\\U\\Clases\\Logica y programacion\\clases\\Clase 15 - Conjuntos.ipynb Cell 97\u001b[0m in \u001b[0;36m<cell line: 1>\u001b[1;34m()\u001b[0m\n\u001b[1;32m----> <a href='vscode-notebook-cell:/d%3A/Dropbox/U/Clases/Logica%20y%20programacion/clases/Clase%2015%20-%20Conjuntos.ipynb#Y165sZmlsZQ%3D%3D?line=0'>1</a>\u001b[0m paquetes\u001b[39m.\u001b[39;49mremove(\u001b[39m'\u001b[39;49m\u001b[39mdjngo\u001b[39;49m\u001b[39m'\u001b[39;49m)\n\u001b[0;32m      <a href='vscode-notebook-cell:/d%3A/Dropbox/U/Clases/Logica%20y%20programacion/clases/Clase%2015%20-%20Conjuntos.ipynb#Y165sZmlsZQ%3D%3D?line=1'>2</a>\u001b[0m paquetes\n",
      "\u001b[1;31mKeyError\u001b[0m: 'djngo'"
     ]
    }
   ],
   "source": [
    "paquetes.remove('djngo')\n",
    "paquetes"
   ]
  },
  {
   "cell_type": "markdown",
   "metadata": {},
   "source": [
    "Si el elemento no es existe en el conjunto mutable, lanza una excepción KeyError. Usted puede usar el método discard() si usted no quiere este error. El conjunto mutable permanece sin cambio si el elemento pasado al método discard() no existe.\n",
    "\n",
    "Un conjunto es una colección desordenada de elementos. Si usted quiere remover arbitrariamente elemento un conjunto, usted puede usar el método pop()."
   ]
  },
  {
   "cell_type": "markdown",
   "metadata": {},
   "source": [
    "# symmetric_difference()\n",
    "\n",
    "Este método devuelve todos los elementos que están en un conjunto mutable e conjunto inmutable u otro, pero no en ambos."
   ]
  },
  {
   "cell_type": "code",
   "execution_count": 67,
   "metadata": {},
   "outputs": [],
   "source": [
    "set_mutable1 = set([4, 3, 11, 7, 5, 2, 1, 4])\n",
    "set_mutable2 = set([11, 5, 9, 2, 4, 8])"
   ]
  },
  {
   "cell_type": "code",
   "execution_count": 68,
   "metadata": {},
   "outputs": [
    {
     "name": "stdout",
     "output_type": "stream",
     "text": [
      "{1, 2, 3, 4, 5, 7, 11}\n"
     ]
    }
   ],
   "source": [
    "print(set_mutable1)"
   ]
  },
  {
   "cell_type": "code",
   "execution_count": 69,
   "metadata": {},
   "outputs": [
    {
     "name": "stdout",
     "output_type": "stream",
     "text": [
      "{2, 4, 5, 8, 9, 11}\n"
     ]
    }
   ],
   "source": [
    "print(set_mutable2)"
   ]
  },
  {
   "cell_type": "code",
   "execution_count": 70,
   "metadata": {},
   "outputs": [
    {
     "name": "stdout",
     "output_type": "stream",
     "text": [
      "{1, 3, 7, 8, 9}\n"
     ]
    }
   ],
   "source": [
    "print(set_mutable1.symmetric_difference(set_mutable2))"
   ]
  },
  {
   "cell_type": "markdown",
   "metadata": {},
   "source": [
    "# symmetric_difference_update()\n",
    "\n",
    "Este método actualiza un conjunto mutable llamando al método symmetric_difference_update() con los conjuntos de diferencia simétrica.\n",
    "\n",
    "La diferencia simétrica de dos conjuntos es el conjunto de elementos que están en cualquiera de los conjuntos pero no en ambos."
   ]
  },
  {
   "cell_type": "code",
   "execution_count": 74,
   "metadata": {},
   "outputs": [
    {
     "data": {
      "text/plain": [
       "{'django', 'plone', 'python'}"
      ]
     },
     "execution_count": 74,
     "metadata": {},
     "output_type": "execute_result"
    }
   ],
   "source": [
    "proyecto1 = {'python', 'plone', 'django'}\n",
    "proyecto1"
   ]
  },
  {
   "cell_type": "code",
   "execution_count": 72,
   "metadata": {},
   "outputs": [
    {
     "data": {
      "text/plain": [
       "{'django', 'pyramid', 'zope'}"
      ]
     },
     "execution_count": 72,
     "metadata": {},
     "output_type": "execute_result"
    }
   ],
   "source": [
    "proyecto2 = {'django', 'zope', 'pyramid'}\n",
    "proyecto2"
   ]
  },
  {
   "cell_type": "code",
   "execution_count": 75,
   "metadata": {},
   "outputs": [
    {
     "data": {
      "text/plain": [
       "{'plone', 'pyramid', 'python', 'zope'}"
      ]
     },
     "execution_count": 75,
     "metadata": {},
     "output_type": "execute_result"
    }
   ],
   "source": [
    "proyecto1.symmetric_difference_update(proyecto2)\n",
    "proyecto1"
   ]
  },
  {
   "cell_type": "markdown",
   "metadata": {},
   "source": [
    "El método symmetric_difference_update() toma un argumento simple de un tipo conjunto mutable."
   ]
  },
  {
   "cell_type": "markdown",
   "metadata": {},
   "source": [
    "# union()\n",
    "\n",
    "Este método devuelve un conjunto mutable y conjunto inmutable con todos los elementos que están en alguno de los conjuntos mutables y conjuntos inmutables."
   ]
  },
  {
   "cell_type": "code",
   "execution_count": 76,
   "metadata": {},
   "outputs": [
    {
     "name": "stdout",
     "output_type": "stream",
     "text": [
      "{1, 2, 3, 4, 5, 7, 11}\n"
     ]
    }
   ],
   "source": [
    "set_mutable1 = set([4, 3, 11, 7, 5, 2, 1, 4])\n",
    "set_mutable2 = set([11, 5, 9, 2, 4, 8])\n",
    "print(set_mutable1)"
   ]
  },
  {
   "cell_type": "code",
   "execution_count": 78,
   "metadata": {},
   "outputs": [
    {
     "name": "stdout",
     "output_type": "stream",
     "text": [
      "{1, 2, 3, 4, 5, 7, 8, 9, 11}\n"
     ]
    }
   ],
   "source": [
    "\n",
    "print(set_mutable1.union(set_mutable2))"
   ]
  },
  {
   "cell_type": "markdown",
   "metadata": {},
   "source": [
    "La unión también se puede realizar con el caracter | y retorna un conjunto que contiene los elementos que se encuentran en al menos uno de los dos conjuntos involucrados en la operación."
   ]
  },
  {
   "cell_type": "code",
   "execution_count": 79,
   "metadata": {},
   "outputs": [
    {
     "data": {
      "text/plain": [
       "{1, 2, 3, 4, 5, 6}"
      ]
     },
     "execution_count": 79,
     "metadata": {},
     "output_type": "execute_result"
    }
   ],
   "source": [
    "a = {1, 2, 3, 4}\n",
    "b = {3, 4, 5, 6}\n",
    "a | b"
   ]
  },
  {
   "cell_type": "markdown",
   "metadata": {},
   "source": [
    "# update()\n",
    "\n",
    "Este método agrega elementos desde un conjunto mutable (pasando como un argumento) un tipo tupla, un tipo lista, un tipo diccionario o un tipo conjunto mutable llamado con el método update().\n",
    "\n",
    "A continuación un ejemplo de agregar nuevos elementos un tipo conjunto mutable usando otro tipo conjunto mutable:"
   ]
  },
  {
   "cell_type": "code",
   "execution_count": 80,
   "metadata": {},
   "outputs": [
    {
     "data": {
      "text/plain": [
       "{5.1, 6}"
      ]
     },
     "execution_count": 80,
     "metadata": {},
     "output_type": "execute_result"
    }
   ],
   "source": [
    "version_plone_dev = set([5.1, 6])\n",
    "version_plone_dev"
   ]
  },
  {
   "cell_type": "code",
   "execution_count": 81,
   "metadata": {},
   "outputs": [
    {
     "data": {
      "text/plain": [
       "{2.1, 2.5, 3.6, 4}"
      ]
     },
     "execution_count": 81,
     "metadata": {},
     "output_type": "execute_result"
    }
   ],
   "source": [
    "versiones_plone = set([2.1, 2.5, 3.6, 4])\n",
    "versiones_plone"
   ]
  },
  {
   "cell_type": "code",
   "execution_count": 84,
   "metadata": {},
   "outputs": [
    {
     "data": {
      "text/plain": [
       "{2.1, 2.5, 3.6, 4, 5.1, 6}"
      ]
     },
     "execution_count": 84,
     "metadata": {},
     "output_type": "execute_result"
    }
   ],
   "source": [
    "versiones_plone.update(version_plone_dev)\n",
    "versiones_plone"
   ]
  },
  {
   "cell_type": "markdown",
   "metadata": {},
   "source": [
    "A continuación un ejemplo de agregar nuevos elementos un tipo conjunto mutable usando otro tipo cadena de caracteres:"
   ]
  },
  {
   "cell_type": "code",
   "execution_count": 82,
   "metadata": {},
   "outputs": [
    {
     "data": {
      "text/plain": [
       "'abc'"
      ]
     },
     "execution_count": 82,
     "metadata": {},
     "output_type": "execute_result"
    }
   ],
   "source": [
    "cadena = 'abc'\n",
    "cadena"
   ]
  },
  {
   "cell_type": "code",
   "execution_count": 83,
   "metadata": {},
   "outputs": [
    {
     "data": {
      "text/plain": [
       "{1, 2, 'a', 'b', 'c'}"
      ]
     },
     "execution_count": 83,
     "metadata": {},
     "output_type": "execute_result"
    }
   ],
   "source": [
    "conjunto = {1, 2}\n",
    "conjunto.update(cadena)\n",
    "conjunto"
   ]
  },
  {
   "cell_type": "markdown",
   "metadata": {},
   "source": [
    "A continuación un ejemplo de agregar nuevos elementos un tipo conjunto mutable usando otro tipo diccionario:"
   ]
  },
  {
   "cell_type": "code",
   "execution_count": 84,
   "metadata": {},
   "outputs": [
    {
     "data": {
      "text/plain": [
       "dict_items([('key', 1), (2, 'lock')])"
      ]
     },
     "execution_count": 84,
     "metadata": {},
     "output_type": "execute_result"
    }
   ],
   "source": [
    "diccionario = {'key': 1, 2:'lock'}\n",
    "diccionario.items()"
   ]
  },
  {
   "cell_type": "code",
   "execution_count": 86,
   "metadata": {},
   "outputs": [
    {
     "data": {
      "text/plain": [
       "{2, 'key'}"
      ]
     },
     "execution_count": 86,
     "metadata": {},
     "output_type": "execute_result"
    }
   ],
   "source": [
    "conjunto = set()\n",
    "conjunto.update(diccionario)\n",
    "conjunto"
   ]
  },
  {
   "cell_type": "markdown",
   "metadata": {},
   "source": [
    "# Convertir a conjuntos\n",
    "\n",
    "Para convertir a tipos conjuntos debe usar las funciones set() y frozenset(), las cuales están integradas en el interprete Python."
   ]
  },
  {
   "attachments": {},
   "cell_type": "markdown",
   "metadata": {},
   "source": [
    "Escribe un programa en Python que realice las siguientes operaciones con conjuntos:\n",
    "\n",
    "Crear un conjunto A que contenga los números del 1 al 1000 (ambos incluidos).\n",
    "Crear un conjunto B que contenga los números impares del 1 al 2000 (ambos incluidos).\n",
    "Calcular la unión de A y B y mostrar el resultado por pantalla.\n",
    "Calcular la intersección de A y B y mostrar el resultado por pantalla.\n",
    "Calcular la diferencia simétrica entre A y B y mostrar el resultado por pantalla."
   ]
  },
  {
   "cell_type": "code",
   "execution_count": 90,
   "metadata": {},
   "outputs": [],
   "source": [
    "def operaciones_conjuntos():\n",
    "    # Crear un conjunto A que contenga los números del 1 al 10 (ambos incluidos)\n",
    "    A = set(range(1, 1001))\n",
    "\n",
    "    # Crear un conjunto B que contenga los números impares del 1 al 20 (ambos incluidos)\n",
    "    B = set(range(1, 2001, 2))\n",
    "\n",
    "    # Calcular la unión de A y B y mostrar el resultado por pantalla\n",
    "    union = A.union(B)\n",
    "    print(\"Unión de A y B:\", union)\n",
    "\n",
    "    # Calcular la intersección de A y B y mostrar el resultado por pantalla\n",
    "    interseccion = A.intersection(B)\n",
    "    print(\"Intersección de A y B:\", interseccion)\n",
    "\n",
    "    # Calcular la diferencia simétrica entre A y B y mostrar el resultado por pantalla\n",
    "    diferencia_simetrica = A.symmetric_difference\n",
    "    print(\"Diferencia simétrica entre A y B:\", diferencia_simetrica)\n"
   ]
  },
  {
   "attachments": {},
   "cell_type": "markdown",
   "metadata": {},
   "source": [
    "En este ejercicio, vamos a trabajar con un conjunto de palabras en Python. El objetivo es crear un programa que permita realizar las siguientes operaciones con conjuntos de palabras:\n",
    "palabras_a = set(['hola', 'adios', 'gato', 'perro', 'casa', 'arbol'])\n",
    "Crear un conjunto de palabras A a partir de una lista de palabras.\n",
    "Crear un conjunto de palabras B a partir de otra lista de palabras.\n",
    "Mostrar las palabras que están en A pero no en B.\n",
    "Mostrar las palabras que están en B pero no en A.\n",
    "Mostrar las palabras que están en A y en B.\n",
    "Mostrar las palabras que están en A o en B, pero no en ambos.\n",
    "Mostrar la cantidad de palabras que están en A pero no en B.\n",
    "Mostrar la cantidad de palabras que están en B pero no en A.\n",
    "Mostrar la cantidad de palabras que están en A y en B.\n",
    "Mostrar la cantidad de palabras que están en A o en B, pero no en ambos."
   ]
  },
  {
   "cell_type": "code",
   "execution_count": null,
   "metadata": {},
   "outputs": [],
   "source": [
    "def conjuntos_palabras():\n",
    "    # Crear un conjunto de palabras A a partir de una lista de palabras\n",
    "    palabras_a = set(['hola', 'adios', 'gato', 'perro', 'casa', 'arbol'])\n",
    "\n",
    "    # Crear un conjunto de palabras B a partir de otra lista de palabras\n",
    "    palabras_b = set(['gato', 'raton', 'casa', 'arbol', 'mesa'])\n",
    "\n",
    "    # Mostrar las palabras que están en A pero no en B\n",
    "    print(\"Palabras en A pero no en B:\", palabras_a - palabras_b)\n",
    "\n",
    "    # Mostrar las palabras que están en B pero no en A\n",
    "    print(\"Palabras en B pero no en A:\", palabras_b - palabras_a)\n",
    "\n",
    "    # Mostrar las palabras que están en A y en B\n",
    "    print(\"Palabras en A y B:\", palabras_a & palabras_b)\n",
    "\n",
    "    # Mostrar las palabras que están en A o en B, pero no en ambos\n",
    "    print(\"Palabras en A o B, pero no en ambos:\", palabras_a ^ palabras_b)\n",
    "\n",
    "    # Mostrar la cantidad de palabras que están en A pero no en B\n",
    "    print(\"Cantidad de palabras en A pero no en B:\", len(palabras_a - palabras_b))\n",
    "\n",
    "    # Mostrar la cantidad de palabras que están en B pero no en A\n",
    "    print(\"Cantidad de palabras en B pero no en A:\", len(palabras_b - palabras_a))\n",
    "\n",
    "    # Mostrar la cantidad de palabras que están en A y en B\n",
    "    print(\"Cantidad de palabras en A y B:\", len(palabras_a & palabras_b))\n",
    "\n",
    "    # Mostrar la cantidad de palabras que están en A o en B, pero no en ambos\n",
    "    print(\"Cantidad de palabras en A o B, pero no en ambos:\", len(palabras_a ^ palabras_b))\n"
   ]
  },
  {
   "attachments": {},
   "cell_type": "markdown",
   "metadata": {},
   "source": [
    "El reto consiste en crear un programa que permita a un usuario crear una lista de tareas por hacer, con su respectiva prioridad. El programa debe permitir agregar nuevas tareas, eliminar tareas existentes, ver la lista completa de tareas y ordenar la lista por prioridad. Todo esto se logrará utilizando funciones cíclicas y estructuras de datos como diccionarios, tuplas y listas."
   ]
  }
 ],
 "metadata": {
  "kernelspec": {
   "display_name": "Python 3",
   "language": "python",
   "name": "python3"
  },
  "language_info": {
   "codemirror_mode": {
    "name": "ipython",
    "version": 3
   },
   "file_extension": ".py",
   "mimetype": "text/x-python",
   "name": "python",
   "nbconvert_exporter": "python",
   "pygments_lexer": "ipython3",
   "version": "3.10.8"
  }
 },
 "nbformat": 4,
 "nbformat_minor": 4
}
